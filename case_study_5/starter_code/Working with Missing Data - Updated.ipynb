{
 "cells": [
  {
   "cell_type": "markdown",
   "metadata": {},
   "source": [
    "# Working with Missing Data\n",
    "\n",
    "**Utilizing the California Housing dataset**"
   ]
  },
  {
   "cell_type": "code",
   "execution_count": 77,
   "metadata": {},
   "outputs": [],
   "source": [
    "# Import package dependencies\n",
    "import pandas as pd\n",
    "import numpy as np\n",
    "from sklearn.linear_model import LinearRegression\n",
    "from sklearn.metrics import mean_squared_error, r2_score, mean_absolute_error\n",
    "from ml_metrics import rmse\n",
    "import matplotlib.pyplot as plt\n",
    "from sklearn import datasets"
   ]
  },
  {
   "cell_type": "code",
   "execution_count": 78,
   "metadata": {},
   "outputs": [
    {
     "name": "stdout",
     "output_type": "stream",
     "text": [
      "(20640, 8)\n"
     ]
    }
   ],
   "source": [
    "# Load in the dataset\n",
    "california = datasets.fetch_california_housing()\n",
    "print(california.data.shape)"
   ]
  },
  {
   "cell_type": "code",
   "execution_count": 79,
   "metadata": {},
   "outputs": [
    {
     "name": "stdout",
     "output_type": "stream",
     "text": [
      "dict_keys(['data', 'target', 'feature_names', 'DESCR'])\n"
     ]
    }
   ],
   "source": [
    "print(california.keys())"
   ]
  },
  {
   "cell_type": "code",
   "execution_count": 80,
   "metadata": {},
   "outputs": [
    {
     "name": "stdout",
     "output_type": "stream",
     "text": [
      ".. _california_housing_dataset:\n",
      "\n",
      "California Housing dataset\n",
      "--------------------------\n",
      "\n",
      "**Data Set Characteristics:**\n",
      "\n",
      "    :Number of Instances: 20640\n",
      "\n",
      "    :Number of Attributes: 8 numeric, predictive attributes and the target\n",
      "\n",
      "    :Attribute Information:\n",
      "        - MedInc        median income in block\n",
      "        - HouseAge      median house age in block\n",
      "        - AveRooms      average number of rooms\n",
      "        - AveBedrms     average number of bedrooms\n",
      "        - Population    block population\n",
      "        - AveOccup      average house occupancy\n",
      "        - Latitude      house block latitude\n",
      "        - Longitude     house block longitude\n",
      "\n",
      "    :Missing Attribute Values: None\n",
      "\n",
      "This dataset was obtained from the StatLib repository.\n",
      "http://lib.stat.cmu.edu/datasets/\n",
      "\n",
      "The target variable is the median house value for California districts.\n",
      "\n",
      "This dataset was derived from the 1990 U.S. census, using one row per census\n",
      "block group. A block group is the smallest geographical unit for which the U.S.\n",
      "Census Bureau publishes sample data (a block group typically has a population\n",
      "of 600 to 3,000 people).\n",
      "\n",
      "It can be downloaded/loaded using the\n",
      ":func:`sklearn.datasets.fetch_california_housing` function.\n",
      "\n",
      ".. topic:: References\n",
      "\n",
      "    - Pace, R. Kelley and Ronald Barry, Sparse Spatial Autoregressions,\n",
      "      Statistics and Probability Letters, 33 (1997) 291-297\n",
      "\n"
     ]
    }
   ],
   "source": [
    "print(california.DESCR)"
   ]
  },
  {
   "cell_type": "code",
   "execution_count": 81,
   "metadata": {},
   "outputs": [
    {
     "data": {
      "text/plain": [
       "['MedInc',\n",
       " 'HouseAge',\n",
       " 'AveRooms',\n",
       " 'AveBedrms',\n",
       " 'Population',\n",
       " 'AveOccup',\n",
       " 'Latitude',\n",
       " 'Longitude']"
      ]
     },
     "execution_count": 81,
     "metadata": {},
     "output_type": "execute_result"
    }
   ],
   "source": [
    "california.feature_names"
   ]
  },
  {
   "cell_type": "code",
   "execution_count": 82,
   "metadata": {},
   "outputs": [
    {
     "data": {
      "text/html": [
       "<div>\n",
       "<style scoped>\n",
       "    .dataframe tbody tr th:only-of-type {\n",
       "        vertical-align: middle;\n",
       "    }\n",
       "\n",
       "    .dataframe tbody tr th {\n",
       "        vertical-align: top;\n",
       "    }\n",
       "\n",
       "    .dataframe thead th {\n",
       "        text-align: right;\n",
       "    }\n",
       "</style>\n",
       "<table border=\"1\" class=\"dataframe\">\n",
       "  <thead>\n",
       "    <tr style=\"text-align: right;\">\n",
       "      <th></th>\n",
       "      <th>MedInc</th>\n",
       "      <th>HouseAge</th>\n",
       "      <th>AveRooms</th>\n",
       "      <th>AveBedrms</th>\n",
       "      <th>Population</th>\n",
       "      <th>AveOccup</th>\n",
       "      <th>Latitude</th>\n",
       "      <th>Longitude</th>\n",
       "    </tr>\n",
       "  </thead>\n",
       "  <tbody>\n",
       "    <tr>\n",
       "      <th>0</th>\n",
       "      <td>4.526</td>\n",
       "      <td>41.0</td>\n",
       "      <td>6.984127</td>\n",
       "      <td>1.023810</td>\n",
       "      <td>322.0</td>\n",
       "      <td>2.555556</td>\n",
       "      <td>37.88</td>\n",
       "      <td>-122.23</td>\n",
       "    </tr>\n",
       "    <tr>\n",
       "      <th>1</th>\n",
       "      <td>3.585</td>\n",
       "      <td>21.0</td>\n",
       "      <td>6.238137</td>\n",
       "      <td>0.971880</td>\n",
       "      <td>2401.0</td>\n",
       "      <td>2.109842</td>\n",
       "      <td>37.86</td>\n",
       "      <td>-122.22</td>\n",
       "    </tr>\n",
       "    <tr>\n",
       "      <th>2</th>\n",
       "      <td>3.521</td>\n",
       "      <td>52.0</td>\n",
       "      <td>8.288136</td>\n",
       "      <td>1.073446</td>\n",
       "      <td>496.0</td>\n",
       "      <td>2.802260</td>\n",
       "      <td>37.85</td>\n",
       "      <td>-122.24</td>\n",
       "    </tr>\n",
       "    <tr>\n",
       "      <th>3</th>\n",
       "      <td>3.413</td>\n",
       "      <td>52.0</td>\n",
       "      <td>5.817352</td>\n",
       "      <td>1.073059</td>\n",
       "      <td>558.0</td>\n",
       "      <td>2.547945</td>\n",
       "      <td>37.85</td>\n",
       "      <td>-122.25</td>\n",
       "    </tr>\n",
       "    <tr>\n",
       "      <th>4</th>\n",
       "      <td>3.422</td>\n",
       "      <td>52.0</td>\n",
       "      <td>6.281853</td>\n",
       "      <td>1.081081</td>\n",
       "      <td>565.0</td>\n",
       "      <td>2.181467</td>\n",
       "      <td>37.85</td>\n",
       "      <td>-122.25</td>\n",
       "    </tr>\n",
       "  </tbody>\n",
       "</table>\n",
       "</div>"
      ],
      "text/plain": [
       "   MedInc  HouseAge  AveRooms  AveBedrms  Population  AveOccup  Latitude  \\\n",
       "0   4.526      41.0  6.984127   1.023810       322.0  2.555556     37.88   \n",
       "1   3.585      21.0  6.238137   0.971880      2401.0  2.109842     37.86   \n",
       "2   3.521      52.0  8.288136   1.073446       496.0  2.802260     37.85   \n",
       "3   3.413      52.0  5.817352   1.073059       558.0  2.547945     37.85   \n",
       "4   3.422      52.0  6.281853   1.081081       565.0  2.181467     37.85   \n",
       "\n",
       "   Longitude  \n",
       "0    -122.23  \n",
       "1    -122.22  \n",
       "2    -122.24  \n",
       "3    -122.25  \n",
       "4    -122.25  "
      ]
     },
     "execution_count": 82,
     "metadata": {},
     "output_type": "execute_result"
    }
   ],
   "source": [
    "# Convert the matrix to pandas\n",
    "cal = pd.DataFrame(california.data)\n",
    "cal.columns = california.feature_names\n",
    "cal['MedInc'] = california.target\n",
    "cal.head()"
   ]
  },
  {
   "cell_type": "code",
   "execution_count": 83,
   "metadata": {},
   "outputs": [
    {
     "data": {
      "text/html": [
       "<div>\n",
       "<style scoped>\n",
       "    .dataframe tbody tr th:only-of-type {\n",
       "        vertical-align: middle;\n",
       "    }\n",
       "\n",
       "    .dataframe tbody tr th {\n",
       "        vertical-align: top;\n",
       "    }\n",
       "\n",
       "    .dataframe thead th {\n",
       "        text-align: right;\n",
       "    }\n",
       "</style>\n",
       "<table border=\"1\" class=\"dataframe\">\n",
       "  <thead>\n",
       "    <tr style=\"text-align: right;\">\n",
       "      <th></th>\n",
       "      <th>MedInc</th>\n",
       "      <th>HouseAge</th>\n",
       "      <th>AveRooms</th>\n",
       "      <th>AveBedrms</th>\n",
       "      <th>Population</th>\n",
       "      <th>AveOccup</th>\n",
       "      <th>Latitude</th>\n",
       "      <th>Longitude</th>\n",
       "    </tr>\n",
       "  </thead>\n",
       "  <tbody>\n",
       "    <tr>\n",
       "      <th>count</th>\n",
       "      <td>20640.000000</td>\n",
       "      <td>20640.000000</td>\n",
       "      <td>20640.000000</td>\n",
       "      <td>20640.000000</td>\n",
       "      <td>20640.000000</td>\n",
       "      <td>20640.000000</td>\n",
       "      <td>20640.000000</td>\n",
       "      <td>20640.000000</td>\n",
       "    </tr>\n",
       "    <tr>\n",
       "      <th>mean</th>\n",
       "      <td>2.068558</td>\n",
       "      <td>28.639486</td>\n",
       "      <td>5.429000</td>\n",
       "      <td>1.096675</td>\n",
       "      <td>1425.476744</td>\n",
       "      <td>3.070655</td>\n",
       "      <td>35.631861</td>\n",
       "      <td>-119.569704</td>\n",
       "    </tr>\n",
       "    <tr>\n",
       "      <th>std</th>\n",
       "      <td>1.153956</td>\n",
       "      <td>12.585558</td>\n",
       "      <td>2.474173</td>\n",
       "      <td>0.473911</td>\n",
       "      <td>1132.462122</td>\n",
       "      <td>10.386050</td>\n",
       "      <td>2.135952</td>\n",
       "      <td>2.003532</td>\n",
       "    </tr>\n",
       "    <tr>\n",
       "      <th>min</th>\n",
       "      <td>0.149990</td>\n",
       "      <td>1.000000</td>\n",
       "      <td>0.846154</td>\n",
       "      <td>0.333333</td>\n",
       "      <td>3.000000</td>\n",
       "      <td>0.692308</td>\n",
       "      <td>32.540000</td>\n",
       "      <td>-124.350000</td>\n",
       "    </tr>\n",
       "    <tr>\n",
       "      <th>25%</th>\n",
       "      <td>1.196000</td>\n",
       "      <td>18.000000</td>\n",
       "      <td>4.440716</td>\n",
       "      <td>1.006079</td>\n",
       "      <td>787.000000</td>\n",
       "      <td>2.429741</td>\n",
       "      <td>33.930000</td>\n",
       "      <td>-121.800000</td>\n",
       "    </tr>\n",
       "    <tr>\n",
       "      <th>50%</th>\n",
       "      <td>1.797000</td>\n",
       "      <td>29.000000</td>\n",
       "      <td>5.229129</td>\n",
       "      <td>1.048780</td>\n",
       "      <td>1166.000000</td>\n",
       "      <td>2.818116</td>\n",
       "      <td>34.260000</td>\n",
       "      <td>-118.490000</td>\n",
       "    </tr>\n",
       "    <tr>\n",
       "      <th>75%</th>\n",
       "      <td>2.647250</td>\n",
       "      <td>37.000000</td>\n",
       "      <td>6.052381</td>\n",
       "      <td>1.099526</td>\n",
       "      <td>1725.000000</td>\n",
       "      <td>3.282261</td>\n",
       "      <td>37.710000</td>\n",
       "      <td>-118.010000</td>\n",
       "    </tr>\n",
       "    <tr>\n",
       "      <th>max</th>\n",
       "      <td>5.000010</td>\n",
       "      <td>52.000000</td>\n",
       "      <td>141.909091</td>\n",
       "      <td>34.066667</td>\n",
       "      <td>35682.000000</td>\n",
       "      <td>1243.333333</td>\n",
       "      <td>41.950000</td>\n",
       "      <td>-114.310000</td>\n",
       "    </tr>\n",
       "  </tbody>\n",
       "</table>\n",
       "</div>"
      ],
      "text/plain": [
       "             MedInc      HouseAge      AveRooms     AveBedrms    Population  \\\n",
       "count  20640.000000  20640.000000  20640.000000  20640.000000  20640.000000   \n",
       "mean       2.068558     28.639486      5.429000      1.096675   1425.476744   \n",
       "std        1.153956     12.585558      2.474173      0.473911   1132.462122   \n",
       "min        0.149990      1.000000      0.846154      0.333333      3.000000   \n",
       "25%        1.196000     18.000000      4.440716      1.006079    787.000000   \n",
       "50%        1.797000     29.000000      5.229129      1.048780   1166.000000   \n",
       "75%        2.647250     37.000000      6.052381      1.099526   1725.000000   \n",
       "max        5.000010     52.000000    141.909091     34.066667  35682.000000   \n",
       "\n",
       "           AveOccup      Latitude     Longitude  \n",
       "count  20640.000000  20640.000000  20640.000000  \n",
       "mean       3.070655     35.631861   -119.569704  \n",
       "std       10.386050      2.135952      2.003532  \n",
       "min        0.692308     32.540000   -124.350000  \n",
       "25%        2.429741     33.930000   -121.800000  \n",
       "50%        2.818116     34.260000   -118.490000  \n",
       "75%        3.282261     37.710000   -118.010000  \n",
       "max     1243.333333     41.950000   -114.310000  "
      ]
     },
     "execution_count": 83,
     "metadata": {},
     "output_type": "execute_result"
    }
   ],
   "source": [
    "cal.describe()"
   ]
  },
  {
   "cell_type": "markdown",
   "metadata": {},
   "source": [
    "## Start by fitting a Linear Regression model to the full dataset\n",
    "\n",
    "**Create a training and testing split (ex., 70/30-split)**"
   ]
  },
  {
   "cell_type": "code",
   "execution_count": 84,
   "metadata": {},
   "outputs": [
    {
     "name": "stdout",
     "output_type": "stream",
     "text": [
      "14448\n",
      "6192\n"
     ]
    }
   ],
   "source": [
    "# Create training and testing sets (cross-validation not needed)\n",
    "train_set = cal.sample(frac=0.7, random_state=100)\n",
    "test_set = cal[~cal.isin(train_set)].dropna()\n",
    "print(train_set.shape[0])\n",
    "print(test_set.shape[0])"
   ]
  },
  {
   "cell_type": "code",
   "execution_count": 85,
   "metadata": {},
   "outputs": [
    {
     "data": {
      "text/html": [
       "<div>\n",
       "<style scoped>\n",
       "    .dataframe tbody tr th:only-of-type {\n",
       "        vertical-align: middle;\n",
       "    }\n",
       "\n",
       "    .dataframe tbody tr th {\n",
       "        vertical-align: top;\n",
       "    }\n",
       "\n",
       "    .dataframe thead th {\n",
       "        text-align: right;\n",
       "    }\n",
       "</style>\n",
       "<table border=\"1\" class=\"dataframe\">\n",
       "  <thead>\n",
       "    <tr style=\"text-align: right;\">\n",
       "      <th></th>\n",
       "      <th>MedInc</th>\n",
       "      <th>HouseAge</th>\n",
       "      <th>AveRooms</th>\n",
       "      <th>AveBedrms</th>\n",
       "      <th>Population</th>\n",
       "      <th>AveOccup</th>\n",
       "      <th>Latitude</th>\n",
       "      <th>Longitude</th>\n",
       "    </tr>\n",
       "  </thead>\n",
       "  <tbody>\n",
       "    <tr>\n",
       "      <th>8151</th>\n",
       "      <td>2.453</td>\n",
       "      <td>36.0</td>\n",
       "      <td>6.276836</td>\n",
       "      <td>1.039548</td>\n",
       "      <td>444.0</td>\n",
       "      <td>2.508475</td>\n",
       "      <td>33.81</td>\n",
       "      <td>-118.10</td>\n",
       "    </tr>\n",
       "    <tr>\n",
       "      <th>53</th>\n",
       "      <td>1.042</td>\n",
       "      <td>52.0</td>\n",
       "      <td>4.075000</td>\n",
       "      <td>1.140000</td>\n",
       "      <td>1162.0</td>\n",
       "      <td>2.905000</td>\n",
       "      <td>37.82</td>\n",
       "      <td>-122.27</td>\n",
       "    </tr>\n",
       "    <tr>\n",
       "      <th>3039</th>\n",
       "      <td>1.462</td>\n",
       "      <td>13.0</td>\n",
       "      <td>6.746647</td>\n",
       "      <td>1.062593</td>\n",
       "      <td>2170.0</td>\n",
       "      <td>3.233979</td>\n",
       "      <td>35.37</td>\n",
       "      <td>-119.12</td>\n",
       "    </tr>\n",
       "    <tr>\n",
       "      <th>9484</th>\n",
       "      <td>1.542</td>\n",
       "      <td>19.0</td>\n",
       "      <td>6.750000</td>\n",
       "      <td>1.348684</td>\n",
       "      <td>424.0</td>\n",
       "      <td>2.789474</td>\n",
       "      <td>39.31</td>\n",
       "      <td>-123.15</td>\n",
       "    </tr>\n",
       "    <tr>\n",
       "      <th>9307</th>\n",
       "      <td>3.242</td>\n",
       "      <td>31.0</td>\n",
       "      <td>4.477459</td>\n",
       "      <td>1.073087</td>\n",
       "      <td>2962.0</td>\n",
       "      <td>2.023224</td>\n",
       "      <td>37.98</td>\n",
       "      <td>-122.52</td>\n",
       "    </tr>\n",
       "  </tbody>\n",
       "</table>\n",
       "</div>"
      ],
      "text/plain": [
       "      MedInc  HouseAge  AveRooms  AveBedrms  Population  AveOccup  Latitude  \\\n",
       "8151   2.453      36.0  6.276836   1.039548       444.0  2.508475     33.81   \n",
       "53     1.042      52.0  4.075000   1.140000      1162.0  2.905000     37.82   \n",
       "3039   1.462      13.0  6.746647   1.062593      2170.0  3.233979     35.37   \n",
       "9484   1.542      19.0  6.750000   1.348684       424.0  2.789474     39.31   \n",
       "9307   3.242      31.0  4.477459   1.073087      2962.0  2.023224     37.98   \n",
       "\n",
       "      Longitude  \n",
       "8151    -118.10  \n",
       "53      -122.27  \n",
       "3039    -119.12  \n",
       "9484    -123.15  \n",
       "9307    -122.52  "
      ]
     },
     "execution_count": 85,
     "metadata": {},
     "output_type": "execute_result"
    }
   ],
   "source": [
    "train_set.head()"
   ]
  },
  {
   "cell_type": "code",
   "execution_count": 86,
   "metadata": {},
   "outputs": [],
   "source": [
    "# Get the training and testing row indices for later use\n",
    "train_index = train_set.index.values.astype(int)\n",
    "test_index = test_set.index.values.astype(int)"
   ]
  },
  {
   "cell_type": "code",
   "execution_count": 87,
   "metadata": {},
   "outputs": [
    {
     "data": {
      "text/html": [
       "<div>\n",
       "<style scoped>\n",
       "    .dataframe tbody tr th:only-of-type {\n",
       "        vertical-align: middle;\n",
       "    }\n",
       "\n",
       "    .dataframe tbody tr th {\n",
       "        vertical-align: top;\n",
       "    }\n",
       "\n",
       "    .dataframe thead th {\n",
       "        text-align: right;\n",
       "    }\n",
       "</style>\n",
       "<table border=\"1\" class=\"dataframe\">\n",
       "  <thead>\n",
       "    <tr style=\"text-align: right;\">\n",
       "      <th></th>\n",
       "      <th>MedInc</th>\n",
       "      <th>HouseAge</th>\n",
       "      <th>AveRooms</th>\n",
       "      <th>AveBedrms</th>\n",
       "      <th>Population</th>\n",
       "      <th>AveOccup</th>\n",
       "      <th>Latitude</th>\n",
       "      <th>Longitude</th>\n",
       "    </tr>\n",
       "  </thead>\n",
       "  <tbody>\n",
       "    <tr>\n",
       "      <th>8151</th>\n",
       "      <td>2.453</td>\n",
       "      <td>36.0</td>\n",
       "      <td>6.276836</td>\n",
       "      <td>1.039548</td>\n",
       "      <td>444.0</td>\n",
       "      <td>2.508475</td>\n",
       "      <td>33.81</td>\n",
       "      <td>-118.10</td>\n",
       "    </tr>\n",
       "    <tr>\n",
       "      <th>53</th>\n",
       "      <td>1.042</td>\n",
       "      <td>52.0</td>\n",
       "      <td>4.075000</td>\n",
       "      <td>1.140000</td>\n",
       "      <td>1162.0</td>\n",
       "      <td>2.905000</td>\n",
       "      <td>37.82</td>\n",
       "      <td>-122.27</td>\n",
       "    </tr>\n",
       "    <tr>\n",
       "      <th>3039</th>\n",
       "      <td>1.462</td>\n",
       "      <td>13.0</td>\n",
       "      <td>6.746647</td>\n",
       "      <td>1.062593</td>\n",
       "      <td>2170.0</td>\n",
       "      <td>3.233979</td>\n",
       "      <td>35.37</td>\n",
       "      <td>-119.12</td>\n",
       "    </tr>\n",
       "    <tr>\n",
       "      <th>9484</th>\n",
       "      <td>1.542</td>\n",
       "      <td>19.0</td>\n",
       "      <td>6.750000</td>\n",
       "      <td>1.348684</td>\n",
       "      <td>424.0</td>\n",
       "      <td>2.789474</td>\n",
       "      <td>39.31</td>\n",
       "      <td>-123.15</td>\n",
       "    </tr>\n",
       "    <tr>\n",
       "      <th>9307</th>\n",
       "      <td>3.242</td>\n",
       "      <td>31.0</td>\n",
       "      <td>4.477459</td>\n",
       "      <td>1.073087</td>\n",
       "      <td>2962.0</td>\n",
       "      <td>2.023224</td>\n",
       "      <td>37.98</td>\n",
       "      <td>-122.52</td>\n",
       "    </tr>\n",
       "  </tbody>\n",
       "</table>\n",
       "</div>"
      ],
      "text/plain": [
       "      MedInc  HouseAge  AveRooms  AveBedrms  Population  AveOccup  Latitude  \\\n",
       "8151   2.453      36.0  6.276836   1.039548       444.0  2.508475     33.81   \n",
       "53     1.042      52.0  4.075000   1.140000      1162.0  2.905000     37.82   \n",
       "3039   1.462      13.0  6.746647   1.062593      2170.0  3.233979     35.37   \n",
       "9484   1.542      19.0  6.750000   1.348684       424.0  2.789474     39.31   \n",
       "9307   3.242      31.0  4.477459   1.073087      2962.0  2.023224     37.98   \n",
       "\n",
       "      Longitude  \n",
       "8151    -118.10  \n",
       "53      -122.27  \n",
       "3039    -119.12  \n",
       "9484    -123.15  \n",
       "9307    -122.52  "
      ]
     },
     "execution_count": 87,
     "metadata": {},
     "output_type": "execute_result"
    }
   ],
   "source": [
    "# Demonstration of using the row indices above to select consistent records\n",
    "cal.iloc[train_index].head()"
   ]
  },
  {
   "cell_type": "code",
   "execution_count": 88,
   "metadata": {},
   "outputs": [],
   "source": [
    "# Converting the training and testing datasets back to matrix-formats\n",
    "X_train = train_set.iloc[:, 1:].values # returns the data; excluding the target\n",
    "Y_train = train_set.iloc[:, 0].values # returns the target-only\n",
    "X_test = test_set.iloc[:, 1:].values # \"\"\n",
    "Y_test = test_set.iloc[:, 0].values # \"\""
   ]
  },
  {
   "cell_type": "code",
   "execution_count": 89,
   "metadata": {},
   "outputs": [
    {
     "name": "stdout",
     "output_type": "stream",
     "text": [
      "0.4021408992488681\n",
      "[ 5.39413657e-03  3.64187452e-01 -1.38129627e+00 -1.17589393e-05\n",
      " -1.24751112e-03 -7.30902386e-01 -7.23704703e-01]\n",
      "-59.014861272508526\n",
      "{'copy_X': True, 'fit_intercept': True, 'n_jobs': None, 'normalize': True}\n"
     ]
    }
   ],
   "source": [
    "# Fit a linear regression to the training data\n",
    "reg = LinearRegression(normalize=True).fit(X_train, Y_train)\n",
    "print(reg.score(X_train, Y_train))\n",
    "print(reg.coef_)\n",
    "print(reg.intercept_)\n",
    "print(reg.get_params())"
   ]
  },
  {
   "cell_type": "code",
   "execution_count": 90,
   "metadata": {},
   "outputs": [
    {
     "name": "stdout",
     "output_type": "stream",
     "text": [
      "The positive(max) coef-value is 0.36418745206851905\n",
      "The variable associated with this coef-value is HouseAge\n"
     ]
    }
   ],
   "source": [
    "# Find the variable with the largest \"normalized\" coefficient value\n",
    "print('The positive(max) coef-value is {}'.format(max(reg.coef_))) # Positive Max\n",
    "#print('The abs(max) coef-value is {}'.format(max(reg.coef_, key=abs))) # ABS Max\n",
    "max_var = max(reg.coef_) # Positive Max\n",
    "#max_var = max(reg.coef_, key=abs) # ABS Max\n",
    "var_index = reg.coef_.tolist().index(max_var)\n",
    "print('The variable associated with this coef-value is {}'.format(california.feature_names[var_index]))"
   ]
  },
  {
   "cell_type": "code",
   "execution_count": 91,
   "metadata": {},
   "outputs": [
    {
     "name": "stdout",
     "output_type": "stream",
     "text": [
      "MAE: 0.678\n",
      "MSE:  0.808\n",
      "RMSE:  0.899\n",
      "R2:  0.390\n"
     ]
    }
   ],
   "source": [
    "Y_pred = reg.predict(X_test)\n",
    "\n",
    "orig_mae = mean_absolute_error(Y_test,Y_pred)\n",
    "orig_mse = mean_squared_error(Y_test,Y_pred)\n",
    "orig_rmse_val = rmse(Y_test,Y_pred)\n",
    "orig_r2 = r2_score(Y_test,Y_pred)\n",
    "print(\"MAE: %.3f\"%orig_mae)\n",
    "print(\"MSE:  %.3f\"%orig_mse)\n",
    "print(\"RMSE:  %.3f\"%orig_rmse_val)\n",
    "print(\"R2:  %.3f\"%orig_r2)"
   ]
  },
  {
   "cell_type": "code",
   "execution_count": 92,
   "metadata": {},
   "outputs": [],
   "source": [
    "res_frame = pd.DataFrame({'data':'original',\n",
    "                   'imputation':'none',\n",
    "                   'mae': orig_mae, \n",
    "                   'mse': orig_mse, \n",
    "                   'rmse':orig_rmse_val, \n",
    "                   'R2':orig_r2,\n",
    "                   'mae_diff':np.nan,\n",
    "                   'mse_diff':np.nan,\n",
    "                   'rmse_diff':np.nan,\n",
    "                   'R2_diff':np.nan}, index=[0])"
   ]
  },
  {
   "cell_type": "code",
   "execution_count": 93,
   "metadata": {},
   "outputs": [
    {
     "data": {
      "text/html": [
       "<div>\n",
       "<style scoped>\n",
       "    .dataframe tbody tr th:only-of-type {\n",
       "        vertical-align: middle;\n",
       "    }\n",
       "\n",
       "    .dataframe tbody tr th {\n",
       "        vertical-align: top;\n",
       "    }\n",
       "\n",
       "    .dataframe thead th {\n",
       "        text-align: right;\n",
       "    }\n",
       "</style>\n",
       "<table border=\"1\" class=\"dataframe\">\n",
       "  <thead>\n",
       "    <tr style=\"text-align: right;\">\n",
       "      <th></th>\n",
       "      <th>data</th>\n",
       "      <th>imputation</th>\n",
       "      <th>mae</th>\n",
       "      <th>mse</th>\n",
       "      <th>rmse</th>\n",
       "      <th>R2</th>\n",
       "      <th>mae_diff</th>\n",
       "      <th>mse_diff</th>\n",
       "      <th>rmse_diff</th>\n",
       "      <th>R2_diff</th>\n",
       "    </tr>\n",
       "  </thead>\n",
       "  <tbody>\n",
       "    <tr>\n",
       "      <th>0</th>\n",
       "      <td>original</td>\n",
       "      <td>none</td>\n",
       "      <td>0.678033</td>\n",
       "      <td>0.80827</td>\n",
       "      <td>0.899039</td>\n",
       "      <td>0.390038</td>\n",
       "      <td>NaN</td>\n",
       "      <td>NaN</td>\n",
       "      <td>NaN</td>\n",
       "      <td>NaN</td>\n",
       "    </tr>\n",
       "  </tbody>\n",
       "</table>\n",
       "</div>"
      ],
      "text/plain": [
       "       data imputation       mae      mse      rmse        R2  mae_diff  \\\n",
       "0  original       none  0.678033  0.80827  0.899039  0.390038       NaN   \n",
       "\n",
       "   mse_diff  rmse_diff  R2_diff  \n",
       "0       NaN        NaN      NaN  "
      ]
     },
     "execution_count": 93,
     "metadata": {},
     "output_type": "execute_result"
    }
   ],
   "source": [
    "res_frame"
   ]
  },
  {
   "cell_type": "markdown",
   "metadata": {},
   "source": [
    "## Round 1 of Imputation\n",
    "\n",
    "**Here we can randomly sample the full dataset and replace a single column's values**"
   ]
  },
  {
   "cell_type": "code",
   "execution_count": 94,
   "metadata": {},
   "outputs": [
    {
     "data": {
      "text/plain": [
       "(6192, 8)"
      ]
     },
     "execution_count": 94,
     "metadata": {},
     "output_type": "execute_result"
    }
   ],
   "source": [
    "in_sample = cal.sample(frac=0.3, random_state=99)\n",
    "in_sample.shape"
   ]
  },
  {
   "cell_type": "code",
   "execution_count": 95,
   "metadata": {},
   "outputs": [
    {
     "data": {
      "text/plain": [
       "(14448, 8)"
      ]
     },
     "execution_count": 95,
     "metadata": {},
     "output_type": "execute_result"
    }
   ],
   "source": [
    "out_sample = cal[~cal.isin(in_sample)].dropna()\n",
    "out_sample.shape"
   ]
  },
  {
   "cell_type": "code",
   "execution_count": 96,
   "metadata": {},
   "outputs": [
    {
     "name": "stdout",
     "output_type": "stream",
     "text": [
      "20640\n",
      "20640\n"
     ]
    }
   ],
   "source": [
    "print(out_sample.shape[0] + in_sample.shape[0])\n",
    "print(cal.shape[0])"
   ]
  },
  {
   "cell_type": "code",
   "execution_count": 97,
   "metadata": {},
   "outputs": [
    {
     "data": {
      "text/html": [
       "<div>\n",
       "<style scoped>\n",
       "    .dataframe tbody tr th:only-of-type {\n",
       "        vertical-align: middle;\n",
       "    }\n",
       "\n",
       "    .dataframe tbody tr th {\n",
       "        vertical-align: top;\n",
       "    }\n",
       "\n",
       "    .dataframe thead th {\n",
       "        text-align: right;\n",
       "    }\n",
       "</style>\n",
       "<table border=\"1\" class=\"dataframe\">\n",
       "  <thead>\n",
       "    <tr style=\"text-align: right;\">\n",
       "      <th></th>\n",
       "      <th>MedInc</th>\n",
       "      <th>HouseAge</th>\n",
       "      <th>AveRooms</th>\n",
       "      <th>AveBedrms</th>\n",
       "      <th>Population</th>\n",
       "      <th>AveOccup</th>\n",
       "      <th>Latitude</th>\n",
       "      <th>Longitude</th>\n",
       "    </tr>\n",
       "  </thead>\n",
       "  <tbody>\n",
       "    <tr>\n",
       "      <th>7914</th>\n",
       "      <td>1.201</td>\n",
       "      <td>30.0</td>\n",
       "      <td>3.832661</td>\n",
       "      <td>1.046371</td>\n",
       "      <td>2685.0</td>\n",
       "      <td>5.413306</td>\n",
       "      <td>33.88</td>\n",
       "      <td>-118.08</td>\n",
       "    </tr>\n",
       "    <tr>\n",
       "      <th>11963</th>\n",
       "      <td>0.920</td>\n",
       "      <td>34.0</td>\n",
       "      <td>6.185930</td>\n",
       "      <td>1.085427</td>\n",
       "      <td>841.0</td>\n",
       "      <td>4.226131</td>\n",
       "      <td>34.01</td>\n",
       "      <td>-117.41</td>\n",
       "    </tr>\n",
       "    <tr>\n",
       "      <th>18738</th>\n",
       "      <td>0.852</td>\n",
       "      <td>12.0</td>\n",
       "      <td>4.513889</td>\n",
       "      <td>0.998843</td>\n",
       "      <td>2145.0</td>\n",
       "      <td>2.482639</td>\n",
       "      <td>40.56</td>\n",
       "      <td>-122.35</td>\n",
       "    </tr>\n",
       "    <tr>\n",
       "      <th>17431</th>\n",
       "      <td>1.353</td>\n",
       "      <td>27.0</td>\n",
       "      <td>4.203036</td>\n",
       "      <td>1.096774</td>\n",
       "      <td>1544.0</td>\n",
       "      <td>2.929791</td>\n",
       "      <td>34.65</td>\n",
       "      <td>-120.45</td>\n",
       "    </tr>\n",
       "    <tr>\n",
       "      <th>17947</th>\n",
       "      <td>2.769</td>\n",
       "      <td>35.0</td>\n",
       "      <td>5.109131</td>\n",
       "      <td>0.915367</td>\n",
       "      <td>1054.0</td>\n",
       "      <td>2.347439</td>\n",
       "      <td>37.33</td>\n",
       "      <td>-121.96</td>\n",
       "    </tr>\n",
       "  </tbody>\n",
       "</table>\n",
       "</div>"
      ],
      "text/plain": [
       "       MedInc  HouseAge  AveRooms  AveBedrms  Population  AveOccup  Latitude  \\\n",
       "7914    1.201      30.0  3.832661   1.046371      2685.0  5.413306     33.88   \n",
       "11963   0.920      34.0  6.185930   1.085427       841.0  4.226131     34.01   \n",
       "18738   0.852      12.0  4.513889   0.998843      2145.0  2.482639     40.56   \n",
       "17431   1.353      27.0  4.203036   1.096774      1544.0  2.929791     34.65   \n",
       "17947   2.769      35.0  5.109131   0.915367      1054.0  2.347439     37.33   \n",
       "\n",
       "       Longitude  \n",
       "7914     -118.08  \n",
       "11963    -117.41  \n",
       "18738    -122.35  \n",
       "17431    -120.45  \n",
       "17947    -121.96  "
      ]
     },
     "execution_count": 97,
     "metadata": {},
     "output_type": "execute_result"
    }
   ],
   "source": [
    "in_sample.head()"
   ]
  },
  {
   "cell_type": "markdown",
   "metadata": {},
   "source": [
    "## Choose a variable to replace"
   ]
  },
  {
   "cell_type": "code",
   "execution_count": 98,
   "metadata": {},
   "outputs": [
    {
     "data": {
      "text/html": [
       "<div>\n",
       "<style scoped>\n",
       "    .dataframe tbody tr th:only-of-type {\n",
       "        vertical-align: middle;\n",
       "    }\n",
       "\n",
       "    .dataframe tbody tr th {\n",
       "        vertical-align: top;\n",
       "    }\n",
       "\n",
       "    .dataframe thead th {\n",
       "        text-align: right;\n",
       "    }\n",
       "</style>\n",
       "<table border=\"1\" class=\"dataframe\">\n",
       "  <thead>\n",
       "    <tr style=\"text-align: right;\">\n",
       "      <th></th>\n",
       "      <th>MedInc</th>\n",
       "      <th>HouseAge</th>\n",
       "      <th>AveRooms</th>\n",
       "      <th>AveBedrms</th>\n",
       "      <th>Population</th>\n",
       "      <th>AveOccup</th>\n",
       "      <th>Latitude</th>\n",
       "      <th>Longitude</th>\n",
       "    </tr>\n",
       "  </thead>\n",
       "  <tbody>\n",
       "    <tr>\n",
       "      <th>7914</th>\n",
       "      <td>1.201</td>\n",
       "      <td>NaN</td>\n",
       "      <td>3.832661</td>\n",
       "      <td>1.046371</td>\n",
       "      <td>2685.0</td>\n",
       "      <td>5.413306</td>\n",
       "      <td>33.88</td>\n",
       "      <td>-118.08</td>\n",
       "    </tr>\n",
       "    <tr>\n",
       "      <th>11963</th>\n",
       "      <td>0.920</td>\n",
       "      <td>NaN</td>\n",
       "      <td>6.185930</td>\n",
       "      <td>1.085427</td>\n",
       "      <td>841.0</td>\n",
       "      <td>4.226131</td>\n",
       "      <td>34.01</td>\n",
       "      <td>-117.41</td>\n",
       "    </tr>\n",
       "    <tr>\n",
       "      <th>18738</th>\n",
       "      <td>0.852</td>\n",
       "      <td>NaN</td>\n",
       "      <td>4.513889</td>\n",
       "      <td>0.998843</td>\n",
       "      <td>2145.0</td>\n",
       "      <td>2.482639</td>\n",
       "      <td>40.56</td>\n",
       "      <td>-122.35</td>\n",
       "    </tr>\n",
       "    <tr>\n",
       "      <th>17431</th>\n",
       "      <td>1.353</td>\n",
       "      <td>NaN</td>\n",
       "      <td>4.203036</td>\n",
       "      <td>1.096774</td>\n",
       "      <td>1544.0</td>\n",
       "      <td>2.929791</td>\n",
       "      <td>34.65</td>\n",
       "      <td>-120.45</td>\n",
       "    </tr>\n",
       "    <tr>\n",
       "      <th>17947</th>\n",
       "      <td>2.769</td>\n",
       "      <td>NaN</td>\n",
       "      <td>5.109131</td>\n",
       "      <td>0.915367</td>\n",
       "      <td>1054.0</td>\n",
       "      <td>2.347439</td>\n",
       "      <td>37.33</td>\n",
       "      <td>-121.96</td>\n",
       "    </tr>\n",
       "  </tbody>\n",
       "</table>\n",
       "</div>"
      ],
      "text/plain": [
       "       MedInc  HouseAge  AveRooms  AveBedrms  Population  AveOccup  Latitude  \\\n",
       "7914    1.201       NaN  3.832661   1.046371      2685.0  5.413306     33.88   \n",
       "11963   0.920       NaN  6.185930   1.085427       841.0  4.226131     34.01   \n",
       "18738   0.852       NaN  4.513889   0.998843      2145.0  2.482639     40.56   \n",
       "17431   1.353       NaN  4.203036   1.096774      1544.0  2.929791     34.65   \n",
       "17947   2.769       NaN  5.109131   0.915367      1054.0  2.347439     37.33   \n",
       "\n",
       "       Longitude  \n",
       "7914     -118.08  \n",
       "11963    -117.41  \n",
       "18738    -122.35  \n",
       "17431    -120.45  \n",
       "17947    -121.96  "
      ]
     },
     "execution_count": 98,
     "metadata": {},
     "output_type": "execute_result"
    }
   ],
   "source": [
    "in_sample['HouseAge'] = np.nan\n",
    "in_sample.head()"
   ]
  },
  {
   "cell_type": "markdown",
   "metadata": {},
   "source": [
    "**Choose an imputation method**"
   ]
  },
  {
   "cell_type": "code",
   "execution_count": 99,
   "metadata": {},
   "outputs": [
    {
     "data": {
      "text/plain": [
       "29.0"
      ]
     },
     "execution_count": 99,
     "metadata": {},
     "output_type": "execute_result"
    }
   ],
   "source": [
    "out_sample['HouseAge'].median()"
   ]
  },
  {
   "cell_type": "code",
   "execution_count": 100,
   "metadata": {},
   "outputs": [
    {
     "data": {
      "text/html": [
       "<div>\n",
       "<style scoped>\n",
       "    .dataframe tbody tr th:only-of-type {\n",
       "        vertical-align: middle;\n",
       "    }\n",
       "\n",
       "    .dataframe tbody tr th {\n",
       "        vertical-align: top;\n",
       "    }\n",
       "\n",
       "    .dataframe thead th {\n",
       "        text-align: right;\n",
       "    }\n",
       "</style>\n",
       "<table border=\"1\" class=\"dataframe\">\n",
       "  <thead>\n",
       "    <tr style=\"text-align: right;\">\n",
       "      <th></th>\n",
       "      <th>MedInc</th>\n",
       "      <th>HouseAge</th>\n",
       "      <th>AveRooms</th>\n",
       "      <th>AveBedrms</th>\n",
       "      <th>Population</th>\n",
       "      <th>AveOccup</th>\n",
       "      <th>Latitude</th>\n",
       "      <th>Longitude</th>\n",
       "    </tr>\n",
       "  </thead>\n",
       "  <tbody>\n",
       "    <tr>\n",
       "      <th>7914</th>\n",
       "      <td>1.201</td>\n",
       "      <td>29.0</td>\n",
       "      <td>3.832661</td>\n",
       "      <td>1.046371</td>\n",
       "      <td>2685.0</td>\n",
       "      <td>5.413306</td>\n",
       "      <td>33.88</td>\n",
       "      <td>-118.08</td>\n",
       "    </tr>\n",
       "    <tr>\n",
       "      <th>11963</th>\n",
       "      <td>0.920</td>\n",
       "      <td>29.0</td>\n",
       "      <td>6.185930</td>\n",
       "      <td>1.085427</td>\n",
       "      <td>841.0</td>\n",
       "      <td>4.226131</td>\n",
       "      <td>34.01</td>\n",
       "      <td>-117.41</td>\n",
       "    </tr>\n",
       "    <tr>\n",
       "      <th>18738</th>\n",
       "      <td>0.852</td>\n",
       "      <td>29.0</td>\n",
       "      <td>4.513889</td>\n",
       "      <td>0.998843</td>\n",
       "      <td>2145.0</td>\n",
       "      <td>2.482639</td>\n",
       "      <td>40.56</td>\n",
       "      <td>-122.35</td>\n",
       "    </tr>\n",
       "    <tr>\n",
       "      <th>17431</th>\n",
       "      <td>1.353</td>\n",
       "      <td>29.0</td>\n",
       "      <td>4.203036</td>\n",
       "      <td>1.096774</td>\n",
       "      <td>1544.0</td>\n",
       "      <td>2.929791</td>\n",
       "      <td>34.65</td>\n",
       "      <td>-120.45</td>\n",
       "    </tr>\n",
       "    <tr>\n",
       "      <th>17947</th>\n",
       "      <td>2.769</td>\n",
       "      <td>29.0</td>\n",
       "      <td>5.109131</td>\n",
       "      <td>0.915367</td>\n",
       "      <td>1054.0</td>\n",
       "      <td>2.347439</td>\n",
       "      <td>37.33</td>\n",
       "      <td>-121.96</td>\n",
       "    </tr>\n",
       "  </tbody>\n",
       "</table>\n",
       "</div>"
      ],
      "text/plain": [
       "       MedInc  HouseAge  AveRooms  AveBedrms  Population  AveOccup  Latitude  \\\n",
       "7914    1.201      29.0  3.832661   1.046371      2685.0  5.413306     33.88   \n",
       "11963   0.920      29.0  6.185930   1.085427       841.0  4.226131     34.01   \n",
       "18738   0.852      29.0  4.513889   0.998843      2145.0  2.482639     40.56   \n",
       "17431   1.353      29.0  4.203036   1.096774      1544.0  2.929791     34.65   \n",
       "17947   2.769      29.0  5.109131   0.915367      1054.0  2.347439     37.33   \n",
       "\n",
       "       Longitude  \n",
       "7914     -118.08  \n",
       "11963    -117.41  \n",
       "18738    -122.35  \n",
       "17431    -120.45  \n",
       "17947    -121.96  "
      ]
     },
     "execution_count": 100,
     "metadata": {},
     "output_type": "execute_result"
    }
   ],
   "source": [
    "in_sample['HouseAge'] = in_sample['HouseAge'].fillna(out_sample['HouseAge'].median())\n",
    "in_sample.head()"
   ]
  },
  {
   "cell_type": "markdown",
   "metadata": {},
   "source": [
    "**Rejoin the imputed and original datasets**"
   ]
  },
  {
   "cell_type": "code",
   "execution_count": 101,
   "metadata": {},
   "outputs": [
    {
     "data": {
      "text/html": [
       "<div>\n",
       "<style scoped>\n",
       "    .dataframe tbody tr th:only-of-type {\n",
       "        vertical-align: middle;\n",
       "    }\n",
       "\n",
       "    .dataframe tbody tr th {\n",
       "        vertical-align: top;\n",
       "    }\n",
       "\n",
       "    .dataframe thead th {\n",
       "        text-align: right;\n",
       "    }\n",
       "</style>\n",
       "<table border=\"1\" class=\"dataframe\">\n",
       "  <thead>\n",
       "    <tr style=\"text-align: right;\">\n",
       "      <th></th>\n",
       "      <th>MedInc</th>\n",
       "      <th>HouseAge</th>\n",
       "      <th>AveRooms</th>\n",
       "      <th>AveBedrms</th>\n",
       "      <th>Population</th>\n",
       "      <th>AveOccup</th>\n",
       "      <th>Latitude</th>\n",
       "      <th>Longitude</th>\n",
       "    </tr>\n",
       "  </thead>\n",
       "  <tbody>\n",
       "    <tr>\n",
       "      <th>0</th>\n",
       "      <td>4.526</td>\n",
       "      <td>41.0</td>\n",
       "      <td>6.984127</td>\n",
       "      <td>1.023810</td>\n",
       "      <td>322.0</td>\n",
       "      <td>2.555556</td>\n",
       "      <td>37.88</td>\n",
       "      <td>-122.23</td>\n",
       "    </tr>\n",
       "    <tr>\n",
       "      <th>1</th>\n",
       "      <td>3.585</td>\n",
       "      <td>21.0</td>\n",
       "      <td>6.238137</td>\n",
       "      <td>0.971880</td>\n",
       "      <td>2401.0</td>\n",
       "      <td>2.109842</td>\n",
       "      <td>37.86</td>\n",
       "      <td>-122.22</td>\n",
       "    </tr>\n",
       "    <tr>\n",
       "      <th>2</th>\n",
       "      <td>3.521</td>\n",
       "      <td>29.0</td>\n",
       "      <td>8.288136</td>\n",
       "      <td>1.073446</td>\n",
       "      <td>496.0</td>\n",
       "      <td>2.802260</td>\n",
       "      <td>37.85</td>\n",
       "      <td>-122.24</td>\n",
       "    </tr>\n",
       "    <tr>\n",
       "      <th>3</th>\n",
       "      <td>3.413</td>\n",
       "      <td>52.0</td>\n",
       "      <td>5.817352</td>\n",
       "      <td>1.073059</td>\n",
       "      <td>558.0</td>\n",
       "      <td>2.547945</td>\n",
       "      <td>37.85</td>\n",
       "      <td>-122.25</td>\n",
       "    </tr>\n",
       "    <tr>\n",
       "      <th>4</th>\n",
       "      <td>3.422</td>\n",
       "      <td>52.0</td>\n",
       "      <td>6.281853</td>\n",
       "      <td>1.081081</td>\n",
       "      <td>565.0</td>\n",
       "      <td>2.181467</td>\n",
       "      <td>37.85</td>\n",
       "      <td>-122.25</td>\n",
       "    </tr>\n",
       "  </tbody>\n",
       "</table>\n",
       "</div>"
      ],
      "text/plain": [
       "   MedInc  HouseAge  AveRooms  AveBedrms  Population  AveOccup  Latitude  \\\n",
       "0   4.526      41.0  6.984127   1.023810       322.0  2.555556     37.88   \n",
       "1   3.585      21.0  6.238137   0.971880      2401.0  2.109842     37.86   \n",
       "2   3.521      29.0  8.288136   1.073446       496.0  2.802260     37.85   \n",
       "3   3.413      52.0  5.817352   1.073059       558.0  2.547945     37.85   \n",
       "4   3.422      52.0  6.281853   1.081081       565.0  2.181467     37.85   \n",
       "\n",
       "   Longitude  \n",
       "0    -122.23  \n",
       "1    -122.22  \n",
       "2    -122.24  \n",
       "3    -122.25  \n",
       "4    -122.25  "
      ]
     },
     "execution_count": 101,
     "metadata": {},
     "output_type": "execute_result"
    }
   ],
   "source": [
    "imputed_data = pd.concat([in_sample, out_sample])\n",
    "imputed_data = imputed_data.sort_index()\n",
    "imputed_data.head()"
   ]
  },
  {
   "cell_type": "markdown",
   "metadata": {},
   "source": [
    "**Use the same training and testing indices to fit the model**"
   ]
  },
  {
   "cell_type": "code",
   "execution_count": 102,
   "metadata": {},
   "outputs": [
    {
     "data": {
      "text/html": [
       "<div>\n",
       "<style scoped>\n",
       "    .dataframe tbody tr th:only-of-type {\n",
       "        vertical-align: middle;\n",
       "    }\n",
       "\n",
       "    .dataframe tbody tr th {\n",
       "        vertical-align: top;\n",
       "    }\n",
       "\n",
       "    .dataframe thead th {\n",
       "        text-align: right;\n",
       "    }\n",
       "</style>\n",
       "<table border=\"1\" class=\"dataframe\">\n",
       "  <thead>\n",
       "    <tr style=\"text-align: right;\">\n",
       "      <th></th>\n",
       "      <th>MedInc</th>\n",
       "      <th>HouseAge</th>\n",
       "      <th>AveRooms</th>\n",
       "      <th>AveBedrms</th>\n",
       "      <th>Population</th>\n",
       "      <th>AveOccup</th>\n",
       "      <th>Latitude</th>\n",
       "      <th>Longitude</th>\n",
       "    </tr>\n",
       "  </thead>\n",
       "  <tbody>\n",
       "    <tr>\n",
       "      <th>8151</th>\n",
       "      <td>2.453</td>\n",
       "      <td>29.0</td>\n",
       "      <td>6.276836</td>\n",
       "      <td>1.039548</td>\n",
       "      <td>444.0</td>\n",
       "      <td>2.508475</td>\n",
       "      <td>33.81</td>\n",
       "      <td>-118.10</td>\n",
       "    </tr>\n",
       "    <tr>\n",
       "      <th>53</th>\n",
       "      <td>1.042</td>\n",
       "      <td>52.0</td>\n",
       "      <td>4.075000</td>\n",
       "      <td>1.140000</td>\n",
       "      <td>1162.0</td>\n",
       "      <td>2.905000</td>\n",
       "      <td>37.82</td>\n",
       "      <td>-122.27</td>\n",
       "    </tr>\n",
       "    <tr>\n",
       "      <th>3039</th>\n",
       "      <td>1.462</td>\n",
       "      <td>13.0</td>\n",
       "      <td>6.746647</td>\n",
       "      <td>1.062593</td>\n",
       "      <td>2170.0</td>\n",
       "      <td>3.233979</td>\n",
       "      <td>35.37</td>\n",
       "      <td>-119.12</td>\n",
       "    </tr>\n",
       "    <tr>\n",
       "      <th>9484</th>\n",
       "      <td>1.542</td>\n",
       "      <td>19.0</td>\n",
       "      <td>6.750000</td>\n",
       "      <td>1.348684</td>\n",
       "      <td>424.0</td>\n",
       "      <td>2.789474</td>\n",
       "      <td>39.31</td>\n",
       "      <td>-123.15</td>\n",
       "    </tr>\n",
       "    <tr>\n",
       "      <th>9307</th>\n",
       "      <td>3.242</td>\n",
       "      <td>31.0</td>\n",
       "      <td>4.477459</td>\n",
       "      <td>1.073087</td>\n",
       "      <td>2962.0</td>\n",
       "      <td>2.023224</td>\n",
       "      <td>37.98</td>\n",
       "      <td>-122.52</td>\n",
       "    </tr>\n",
       "  </tbody>\n",
       "</table>\n",
       "</div>"
      ],
      "text/plain": [
       "      MedInc  HouseAge  AveRooms  AveBedrms  Population  AveOccup  Latitude  \\\n",
       "8151   2.453      29.0  6.276836   1.039548       444.0  2.508475     33.81   \n",
       "53     1.042      52.0  4.075000   1.140000      1162.0  2.905000     37.82   \n",
       "3039   1.462      13.0  6.746647   1.062593      2170.0  3.233979     35.37   \n",
       "9484   1.542      19.0  6.750000   1.348684       424.0  2.789474     39.31   \n",
       "9307   3.242      31.0  4.477459   1.073087      2962.0  2.023224     37.98   \n",
       "\n",
       "      Longitude  \n",
       "8151    -118.10  \n",
       "53      -122.27  \n",
       "3039    -119.12  \n",
       "9484    -123.15  \n",
       "9307    -122.52  "
      ]
     },
     "execution_count": 102,
     "metadata": {},
     "output_type": "execute_result"
    }
   ],
   "source": [
    "train_set = imputed_data.iloc[train_index]\n",
    "test_set = imputed_data.iloc[test_index]\n",
    "train_set.head()"
   ]
  },
  {
   "cell_type": "code",
   "execution_count": 103,
   "metadata": {},
   "outputs": [],
   "source": [
    "# Converting the training and testing datasets back to matrix-formats\n",
    "X_train = train_set.iloc[:, 1:].values # returns the data; excluding the target\n",
    "Y_train = train_set.iloc[:, 0].values # returns the target-only\n",
    "X_test = test_set.iloc[:, 1:].values # \"\"\n",
    "Y_test = test_set.iloc[:, 0].values # \"\""
   ]
  },
  {
   "cell_type": "markdown",
   "metadata": {},
   "source": [
    "**Fit a new model to the imputed dataset**"
   ]
  },
  {
   "cell_type": "code",
   "execution_count": 104,
   "metadata": {},
   "outputs": [
    {
     "name": "stdout",
     "output_type": "stream",
     "text": [
      "0.40182348716655325\n",
      "[ 5.88625535e-03  3.61966590e-01 -1.37351052e+00 -1.68408451e-05\n",
      " -1.21655089e-03 -7.34807395e-01 -7.28147765e-01]\n",
      "-59.41113202265889\n",
      "{'copy_X': True, 'fit_intercept': True, 'n_jobs': None, 'normalize': False}\n"
     ]
    }
   ],
   "source": [
    "reg2 = LinearRegression().fit(X_train, Y_train)\n",
    "print(reg2.score(X_train, Y_train))\n",
    "print(reg2.coef_)\n",
    "print(reg2.intercept_)\n",
    "print(reg2.get_params())"
   ]
  },
  {
   "cell_type": "code",
   "execution_count": 105,
   "metadata": {},
   "outputs": [
    {
     "name": "stdout",
     "output_type": "stream",
     "text": [
      "MAE: 0.677\n",
      "MSE:  0.808\n",
      "RMSE:  0.899\n",
      "R2:  0.390\n"
     ]
    }
   ],
   "source": [
    "Y_pred = reg2.predict(X_test)\n",
    "\n",
    "mae = mean_absolute_error(Y_test,Y_pred)\n",
    "mse = mean_squared_error(Y_test,Y_pred)\n",
    "rmse_val = rmse(Y_test,Y_pred)\n",
    "r2 = r2_score(Y_test,Y_pred)\n",
    "print(\"MAE: %.3f\"%mae)\n",
    "print(\"MSE:  %.3f\"%mse)\n",
    "print(\"RMSE:  %.3f\"%rmse_val)\n",
    "print(\"R2:  %.3f\"%r2)"
   ]
  },
  {
   "cell_type": "code",
   "execution_count": 106,
   "metadata": {},
   "outputs": [],
   "source": [
    "temp_frame = pd.DataFrame({'data':'30% imputed',\n",
    "                   'imputation':'MAR',\n",
    "                   'mae': mae, \n",
    "                   'mse': mse, \n",
    "                   'rmse':rmse_val,\n",
    "                   'R2':r2,\n",
    "                   'mae_diff':mae-orig_mae,\n",
    "                   'mse_diff':mse-orig_mse,\n",
    "                   'rmse_diff':rmse_val-orig_rmse_val,\n",
    "                   'R2_diff':r2-orig_r2\n",
    "                   }, index=[0])"
   ]
  },
  {
   "cell_type": "code",
   "execution_count": 107,
   "metadata": {},
   "outputs": [
    {
     "data": {
      "text/html": [
       "<div>\n",
       "<style scoped>\n",
       "    .dataframe tbody tr th:only-of-type {\n",
       "        vertical-align: middle;\n",
       "    }\n",
       "\n",
       "    .dataframe tbody tr th {\n",
       "        vertical-align: top;\n",
       "    }\n",
       "\n",
       "    .dataframe thead th {\n",
       "        text-align: right;\n",
       "    }\n",
       "</style>\n",
       "<table border=\"1\" class=\"dataframe\">\n",
       "  <thead>\n",
       "    <tr style=\"text-align: right;\">\n",
       "      <th></th>\n",
       "      <th>data</th>\n",
       "      <th>imputation</th>\n",
       "      <th>mae</th>\n",
       "      <th>mse</th>\n",
       "      <th>rmse</th>\n",
       "      <th>R2</th>\n",
       "      <th>mae_diff</th>\n",
       "      <th>mse_diff</th>\n",
       "      <th>rmse_diff</th>\n",
       "      <th>R2_diff</th>\n",
       "    </tr>\n",
       "  </thead>\n",
       "  <tbody>\n",
       "    <tr>\n",
       "      <th>0</th>\n",
       "      <td>original</td>\n",
       "      <td>none</td>\n",
       "      <td>0.678033</td>\n",
       "      <td>0.808270</td>\n",
       "      <td>0.899039</td>\n",
       "      <td>0.390038</td>\n",
       "      <td>NaN</td>\n",
       "      <td>NaN</td>\n",
       "      <td>NaN</td>\n",
       "      <td>NaN</td>\n",
       "    </tr>\n",
       "    <tr>\n",
       "      <th>0</th>\n",
       "      <td>30% imputed</td>\n",
       "      <td>MAR</td>\n",
       "      <td>0.677494</td>\n",
       "      <td>0.807814</td>\n",
       "      <td>0.898785</td>\n",
       "      <td>0.390382</td>\n",
       "      <td>-0.000539</td>\n",
       "      <td>-0.000456</td>\n",
       "      <td>-0.000254</td>\n",
       "      <td>0.000344</td>\n",
       "    </tr>\n",
       "  </tbody>\n",
       "</table>\n",
       "</div>"
      ],
      "text/plain": [
       "          data imputation       mae       mse      rmse        R2  mae_diff  \\\n",
       "0     original       none  0.678033  0.808270  0.899039  0.390038       NaN   \n",
       "0  30% imputed        MAR  0.677494  0.807814  0.898785  0.390382 -0.000539   \n",
       "\n",
       "   mse_diff  rmse_diff   R2_diff  \n",
       "0       NaN        NaN       NaN  \n",
       "0 -0.000456  -0.000254  0.000344  "
      ]
     },
     "execution_count": 107,
     "metadata": {},
     "output_type": "execute_result"
    }
   ],
   "source": [
    "res_frame = pd.concat([res_frame, temp_frame])\n",
    "res_frame"
   ]
  },
  {
   "cell_type": "code",
   "execution_count": null,
   "metadata": {},
   "outputs": [],
   "source": []
  }
 ],
 "metadata": {
  "kernelspec": {
   "display_name": "Python 3",
   "language": "python",
   "name": "python3"
  },
  "language_info": {
   "codemirror_mode": {
    "name": "ipython",
    "version": 3
   },
   "file_extension": ".py",
   "mimetype": "text/x-python",
   "name": "python",
   "nbconvert_exporter": "python",
   "pygments_lexer": "ipython3",
   "version": "3.7.9"
  }
 },
 "nbformat": 4,
 "nbformat_minor": 4
}
