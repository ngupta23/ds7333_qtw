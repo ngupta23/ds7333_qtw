{
 "cells": [
  {
   "cell_type": "code",
   "execution_count": 1,
   "metadata": {},
   "outputs": [
    {
     "name": "stdout",
     "output_type": "stream",
     "text": [
      "2.3.1\n"
     ]
    }
   ],
   "source": [
    "import tensorflow as tf\n",
    "from tensorflow.keras import layers\n",
    "from sklearn import datasets\n",
    "import pandas as pd\n",
    "import numpy as np\n",
    "print(tf.__version__)\n",
    "\n",
    "import warnings\n",
    "warnings.simplefilter(action='ignore', category=FutureWarning)"
   ]
  },
  {
   "cell_type": "markdown",
   "metadata": {},
   "source": [
    "## Load Data\n",
    "First get the data.  Sklearn presents the data in a dictionary.  \n",
    "\n",
    "The target is the price is thousands\n",
    "\n",
    "Note that X is a dataframe while y is an array!!"
   ]
  },
  {
   "cell_type": "code",
   "execution_count": 2,
   "metadata": {},
   "outputs": [],
   "source": [
    "cal = datasets.fetch_california_housing()"
   ]
  },
  {
   "cell_type": "code",
   "execution_count": 3,
   "metadata": {},
   "outputs": [
    {
     "data": {
      "text/plain": [
       "{'DESCR': '.. _california_housing_dataset:\\n\\nCalifornia Housing dataset\\n--------------------------\\n\\n**Data Set Characteristics:**\\n\\n    :Number of Instances: 20640\\n\\n    :Number of Attributes: 8 numeric, predictive attributes and the target\\n\\n    :Attribute Information:\\n        - MedInc        median income in block\\n        - HouseAge      median house age in block\\n        - AveRooms      average number of rooms\\n        - AveBedrms     average number of bedrooms\\n        - Population    block population\\n        - AveOccup      average house occupancy\\n        - Latitude      house block latitude\\n        - Longitude     house block longitude\\n\\n    :Missing Attribute Values: None\\n\\nThis dataset was obtained from the StatLib repository.\\nhttp://lib.stat.cmu.edu/datasets/\\n\\nThe target variable is the median house value for California districts.\\n\\nThis dataset was derived from the 1990 U.S. census, using one row per census\\nblock group. A block group is the smallest geographical unit for which the U.S.\\nCensus Bureau publishes sample data (a block group typically has a population\\nof 600 to 3,000 people).\\n\\nIt can be downloaded/loaded using the\\n:func:`sklearn.datasets.fetch_california_housing` function.\\n\\n.. topic:: References\\n\\n    - Pace, R. Kelley and Ronald Barry, Sparse Spatial Autoregressions,\\n      Statistics and Probability Letters, 33 (1997) 291-297\\n',\n",
       " 'data': array([[   8.3252    ,   41.        ,    6.98412698, ...,    2.55555556,\n",
       "           37.88      , -122.23      ],\n",
       "        [   8.3014    ,   21.        ,    6.23813708, ...,    2.10984183,\n",
       "           37.86      , -122.22      ],\n",
       "        [   7.2574    ,   52.        ,    8.28813559, ...,    2.80225989,\n",
       "           37.85      , -122.24      ],\n",
       "        ...,\n",
       "        [   1.7       ,   17.        ,    5.20554273, ...,    2.3256351 ,\n",
       "           39.43      , -121.22      ],\n",
       "        [   1.8672    ,   18.        ,    5.32951289, ...,    2.12320917,\n",
       "           39.43      , -121.32      ],\n",
       "        [   2.3886    ,   16.        ,    5.25471698, ...,    2.61698113,\n",
       "           39.37      , -121.24      ]]),\n",
       " 'feature_names': ['MedInc',\n",
       "  'HouseAge',\n",
       "  'AveRooms',\n",
       "  'AveBedrms',\n",
       "  'Population',\n",
       "  'AveOccup',\n",
       "  'Latitude',\n",
       "  'Longitude'],\n",
       " 'target': array([4.526, 3.585, 3.521, ..., 0.923, 0.847, 0.894])}"
      ]
     },
     "execution_count": 3,
     "metadata": {},
     "output_type": "execute_result"
    }
   ],
   "source": [
    "cal"
   ]
  },
  {
   "cell_type": "code",
   "execution_count": 4,
   "metadata": {},
   "outputs": [],
   "source": [
    "x = pd.DataFrame(cal['data'])"
   ]
  },
  {
   "cell_type": "code",
   "execution_count": 5,
   "metadata": {},
   "outputs": [],
   "source": [
    "x.columns = cal['feature_names']"
   ]
  },
  {
   "cell_type": "markdown",
   "metadata": {},
   "source": [
    "### This is a dataframe"
   ]
  },
  {
   "cell_type": "code",
   "execution_count": 6,
   "metadata": {},
   "outputs": [
    {
     "data": {
      "text/html": [
       "<div>\n",
       "<style scoped>\n",
       "    .dataframe tbody tr th:only-of-type {\n",
       "        vertical-align: middle;\n",
       "    }\n",
       "\n",
       "    .dataframe tbody tr th {\n",
       "        vertical-align: top;\n",
       "    }\n",
       "\n",
       "    .dataframe thead th {\n",
       "        text-align: right;\n",
       "    }\n",
       "</style>\n",
       "<table border=\"1\" class=\"dataframe\">\n",
       "  <thead>\n",
       "    <tr style=\"text-align: right;\">\n",
       "      <th></th>\n",
       "      <th>MedInc</th>\n",
       "      <th>HouseAge</th>\n",
       "      <th>AveRooms</th>\n",
       "      <th>AveBedrms</th>\n",
       "      <th>Population</th>\n",
       "      <th>AveOccup</th>\n",
       "      <th>Latitude</th>\n",
       "      <th>Longitude</th>\n",
       "    </tr>\n",
       "  </thead>\n",
       "  <tbody>\n",
       "    <tr>\n",
       "      <th>0</th>\n",
       "      <td>8.3252</td>\n",
       "      <td>41.0</td>\n",
       "      <td>6.984127</td>\n",
       "      <td>1.023810</td>\n",
       "      <td>322.0</td>\n",
       "      <td>2.555556</td>\n",
       "      <td>37.88</td>\n",
       "      <td>-122.23</td>\n",
       "    </tr>\n",
       "    <tr>\n",
       "      <th>1</th>\n",
       "      <td>8.3014</td>\n",
       "      <td>21.0</td>\n",
       "      <td>6.238137</td>\n",
       "      <td>0.971880</td>\n",
       "      <td>2401.0</td>\n",
       "      <td>2.109842</td>\n",
       "      <td>37.86</td>\n",
       "      <td>-122.22</td>\n",
       "    </tr>\n",
       "    <tr>\n",
       "      <th>2</th>\n",
       "      <td>7.2574</td>\n",
       "      <td>52.0</td>\n",
       "      <td>8.288136</td>\n",
       "      <td>1.073446</td>\n",
       "      <td>496.0</td>\n",
       "      <td>2.802260</td>\n",
       "      <td>37.85</td>\n",
       "      <td>-122.24</td>\n",
       "    </tr>\n",
       "    <tr>\n",
       "      <th>3</th>\n",
       "      <td>5.6431</td>\n",
       "      <td>52.0</td>\n",
       "      <td>5.817352</td>\n",
       "      <td>1.073059</td>\n",
       "      <td>558.0</td>\n",
       "      <td>2.547945</td>\n",
       "      <td>37.85</td>\n",
       "      <td>-122.25</td>\n",
       "    </tr>\n",
       "    <tr>\n",
       "      <th>4</th>\n",
       "      <td>3.8462</td>\n",
       "      <td>52.0</td>\n",
       "      <td>6.281853</td>\n",
       "      <td>1.081081</td>\n",
       "      <td>565.0</td>\n",
       "      <td>2.181467</td>\n",
       "      <td>37.85</td>\n",
       "      <td>-122.25</td>\n",
       "    </tr>\n",
       "  </tbody>\n",
       "</table>\n",
       "</div>"
      ],
      "text/plain": [
       "   MedInc  HouseAge  AveRooms  AveBedrms  Population  AveOccup  Latitude  \\\n",
       "0  8.3252      41.0  6.984127   1.023810       322.0  2.555556     37.88   \n",
       "1  8.3014      21.0  6.238137   0.971880      2401.0  2.109842     37.86   \n",
       "2  7.2574      52.0  8.288136   1.073446       496.0  2.802260     37.85   \n",
       "3  5.6431      52.0  5.817352   1.073059       558.0  2.547945     37.85   \n",
       "4  3.8462      52.0  6.281853   1.081081       565.0  2.181467     37.85   \n",
       "\n",
       "   Longitude  \n",
       "0    -122.23  \n",
       "1    -122.22  \n",
       "2    -122.24  \n",
       "3    -122.25  \n",
       "4    -122.25  "
      ]
     },
     "execution_count": 6,
     "metadata": {},
     "output_type": "execute_result"
    }
   ],
   "source": [
    "x.head()"
   ]
  },
  {
   "cell_type": "markdown",
   "metadata": {},
   "source": [
    "### This is an array"
   ]
  },
  {
   "cell_type": "code",
   "execution_count": 7,
   "metadata": {},
   "outputs": [],
   "source": [
    "y = cal['target']"
   ]
  },
  {
   "cell_type": "code",
   "execution_count": 8,
   "metadata": {},
   "outputs": [
    {
     "data": {
      "text/plain": [
       "array([4.526, 3.585, 3.521, ..., 0.923, 0.847, 0.894])"
      ]
     },
     "execution_count": 8,
     "metadata": {},
     "output_type": "execute_result"
    }
   ],
   "source": [
    "y"
   ]
  },
  {
   "cell_type": "markdown",
   "metadata": {},
   "source": [
    "## Scale Data\n",
    "Neural Networks are especially sensitive to data scaling.  Nearly all the activation functions saturate at (0,1) or (-1,1)."
   ]
  },
  {
   "cell_type": "code",
   "execution_count": 9,
   "metadata": {},
   "outputs": [
    {
     "name": "stdout",
     "output_type": "stream",
     "text": [
      "Note: median values were scaled by multiplying by 0.0996015936 and adding 12.385458\n"
     ]
    }
   ],
   "source": [
    "from sklearn.preprocessing import MinMaxScaler\n",
    "\n",
    "scaler = MinMaxScaler(feature_range=(0,1))\n",
    "scaled_train = scaler.fit_transform(x)\n",
    "\n",
    "# Print out the adjustment that the scaler applied to the total_earnings column of data\n",
    "print(\"Note: median values were scaled by multiplying by {:.10f} and adding {:.6f}\".format(scaler.scale_[7],scaler.min_[7]))\n",
    "multiplied_by = scaler.scale_[7]\n",
    "added = scaler.min_[7]\n",
    "\n",
    "scaled_train_df = pd.DataFrame(scaled_train, columns = x.columns.values)\n"
   ]
  },
  {
   "cell_type": "code",
   "execution_count": 10,
   "metadata": {},
   "outputs": [],
   "source": [
    "import matplotlib.pyplot as plt\n",
    "%matplotlib inline"
   ]
  },
  {
   "cell_type": "code",
   "execution_count": 11,
   "metadata": {},
   "outputs": [
    {
     "data": {
      "image/png": "[encoded data removed]",
      "text/plain": [
       "<Figure size 432x288 with 1 Axes>"
      ]
     },
     "metadata": {
      "needs_background": "light"
     },
     "output_type": "display_data"
    },
    {
     "data": {
      "image/png": "[encoded data removed]",
      "text/plain": [
       "<Figure size 432x288 with 1 Axes>"
      ]
     },
     "metadata": {
      "needs_background": "light"
     },
     "output_type": "display_data"
    },
    {
     "data": {
      "image/png": "[encoded data removed]",
      "text/plain": [
       "<Figure size 432x288 with 1 Axes>"
      ]
     },
     "metadata": {
      "needs_background": "light"
     },
     "output_type": "display_data"
    },
    {
     "data": {
      "image/png": "[encoded data removed]",
      "text/plain": [
       "<Figure size 432x288 with 1 Axes>"
      ]
     },
     "metadata": {
      "needs_background": "light"
     },
     "output_type": "display_data"
    },
    {
     "data": {
      "image/png": "[encoded data removed]",
      "text/plain": [
       "<Figure size 432x288 with 1 Axes>"
      ]
     },
     "metadata": {
      "needs_background": "light"
     },
     "output_type": "display_data"
    },
    {
     "data": {
      "image/png": "[encoded data removed]",
      "text/plain": [
       "<Figure size 432x288 with 1 Axes>"
      ]
     },
     "metadata": {
      "needs_background": "light"
     },
     "output_type": "display_data"
    },
    {
     "data": {
      "image/png": "[encoded data removed]",
      "text/plain": [
       "<Figure size 432x288 with 1 Axes>"
      ]
     },
     "metadata": {
      "needs_background": "light"
     },
     "output_type": "display_data"
    },
    {
     "data": {
      "image/png": "[encoded data removed]",
      "text/plain": [
       "<Figure size 432x288 with 1 Axes>"
      ]
     },
     "metadata": {
      "needs_background": "light"
     },
     "output_type": "display_data"
    }
   ],
   "source": [
    "for i in scaled_train_df:\n",
    "    scaled_train_df[i].hist()\n",
    "    plt.show()"
   ]
  },
  {
   "cell_type": "markdown",
   "metadata": {},
   "source": [
    "## Model\n",
    "Alright, lets get down to business.  We will use the Sequential() class to build a model.  This means we just add layer after layer to the model (in order).\n",
    "\n",
    "Note that this is NOT the keras package proper.  This is an implementation of the Keras API in TensorFlow.  They are closely related, but this IS TensorFlow (package), not Keras (package).\n",
    "\n",
    "https://www.tensorflow.org/api_docs/python/tf/keras/Model"
   ]
  },
  {
   "cell_type": "code",
   "execution_count": 12,
   "metadata": {},
   "outputs": [
    {
     "data": {
      "text/plain": [
       "(20640, 8)"
      ]
     },
     "execution_count": 12,
     "metadata": {},
     "output_type": "execute_result"
    }
   ],
   "source": [
    "x.shape"
   ]
  },
  {
   "cell_type": "code",
   "execution_count": 13,
   "metadata": {},
   "outputs": [],
   "source": [
    "model = tf.keras.Sequential()\n",
    "\n",
    "model.add(layers.Dense(100, activation='tanh'))\n",
    "model.add(layers.Dense(50, activation='tanh'))\n",
    "model.add(layers.Dense(1, activation='linear'))"
   ]
  },
  {
   "cell_type": "markdown",
   "metadata": {},
   "source": [
    "## Compile Model\n",
    "The compile step adds an optimizer (solver) and your loss metrics."
   ]
  },
  {
   "cell_type": "code",
   "execution_count": 14,
   "metadata": {},
   "outputs": [],
   "source": [
    "model.compile(optimizer='sgd',\n",
    "             loss = 'mean_squared_error',\n",
    "             metrics = ['mean_squared_error'])"
   ]
  },
  {
   "cell_type": "markdown",
   "metadata": {},
   "source": [
    "## Fit Model\n",
    "Now it is time to train."
   ]
  },
  {
   "cell_type": "code",
   "execution_count": 15,
   "metadata": {},
   "outputs": [
    {
     "name": "stdout",
     "output_type": "stream",
     "text": [
      "Epoch 1/10\n",
      "413/413 [==============================] - 0s 623us/step - loss: 0.9140 - mean_squared_error: 0.9140\n",
      "Epoch 2/10\n",
      "413/413 [==============================] - 0s 666us/step - loss: 0.5800 - mean_squared_error: 0.5800\n",
      "Epoch 3/10\n",
      "413/413 [==============================] - 0s 692us/step - loss: 0.5606 - mean_squared_error: 0.5606\n",
      "Epoch 4/10\n",
      "413/413 [==============================] - 0s 722us/step - loss: 0.5517 - mean_squared_error: 0.5517\n",
      "Epoch 5/10\n",
      "413/413 [==============================] - 0s 686us/step - loss: 0.5464 - mean_squared_error: 0.5464\n",
      "Epoch 6/10\n",
      "413/413 [==============================] - 0s 679us/step - loss: 0.5456 - mean_squared_error: 0.5456\n",
      "Epoch 7/10\n",
      "413/413 [==============================] - 0s 677us/step - loss: 0.5438 - mean_squared_error: 0.5438\n",
      "Epoch 8/10\n",
      "413/413 [==============================] - 0s 671us/step - loss: 0.5432 - mean_squared_error: 0.5432\n",
      "Epoch 9/10\n",
      "413/413 [==============================] - 0s 656us/step - loss: 0.5415 - mean_squared_error: 0.5415\n",
      "Epoch 10/10\n",
      "413/413 [==============================] - 0s 643us/step - loss: 0.5404 - mean_squared_error: 0.5404\n"
     ]
    },
    {
     "data": {
      "text/plain": [
       "<tensorflow.python.keras.callbacks.History at 0x14ce69b70>"
      ]
     },
     "execution_count": 15,
     "metadata": {},
     "output_type": "execute_result"
    }
   ],
   "source": [
    "model.fit(scaled_train_df.values, y, epochs=10, batch_size=50)"
   ]
  },
  {
   "cell_type": "markdown",
   "metadata": {},
   "source": [
    "## Visualize the data\n",
    "TensorBoard allows you to look at your training curves in real time.  All we need to do here is add a \"callback\" that is executed every epoch.  TensorBoard writes a summary of the model output.  If you manually build a neural network, you need to add tf.summary operations."
   ]
  },
  {
   "cell_type": "code",
   "execution_count": 16,
   "metadata": {},
   "outputs": [],
   "source": [
    "from tensorflow.keras.callbacks import TensorBoard\n",
    "\n",
    "log_dir = 'logs'\n",
    "tb = TensorBoard(log_dir=log_dir, histogram_freq=1)"
   ]
  },
  {
   "cell_type": "markdown",
   "metadata": {},
   "source": [
    "**In your terminal, you'll need to tell TensorBoard where your logs are being stored**\n",
    "\n",
    "\"cd\" to the directory containing your log folder then run the following command in the terminal (where \"logs\" is a folder containing the log files)\n",
    "\n",
    "Ex. CUS_C02VJ0NQHTDF:~ bblanchard006$ tensorboard --logdir logs"
   ]
  },
  {
   "cell_type": "code",
   "execution_count": 17,
   "metadata": {},
   "outputs": [],
   "source": [
    "model.compile(optimizer=tf.optimizers.SGD(0.001),\n",
    "             loss='mean_squared_error',\n",
    "             metrics=['mean_squared_error'])"
   ]
  },
  {
   "cell_type": "code",
   "execution_count": 18,
   "metadata": {},
   "outputs": [
    {
     "name": "stdout",
     "output_type": "stream",
     "text": [
      "Epoch 1/5\n",
      "   1/5160 [..............................] - ETA: 0s - loss: 0.0410 - mean_squared_error: 0.0410WARNING:tensorflow:From /anaconda3/lib/python3.6/site-packages/tensorflow/python/ops/summary_ops_v2.py:1277: stop (from tensorflow.python.eager.profiler) is deprecated and will be removed after 2020-07-01.\n",
      "Instructions for updating:\n",
      "use `tf.profiler.experimental.stop` instead.\n",
      "WARNING:tensorflow:Callbacks method `on_train_batch_end` is slow compared to the batch time (batch time: 0.0012s vs `on_train_batch_end` time: 0.0314s). Check your callbacks.\n",
      "5160/5160 [==============================] - 3s 592us/step - loss: 0.5386 - mean_squared_error: 0.5386\n",
      "Epoch 2/5\n",
      "5160/5160 [==============================] - 3s 554us/step - loss: 0.5358 - mean_squared_error: 0.5358\n",
      "Epoch 3/5\n",
      "5160/5160 [==============================] - 3s 590us/step - loss: 0.5350 - mean_squared_error: 0.53500s - loss: 0.5455 - mean_squared_error:  - ETA: 0s - loss: 0.541\n",
      "Epoch 4/5\n",
      "5160/5160 [==============================] - 3s 564us/step - loss: 0.5338 - mean_squared_error: 0.5338\n",
      "Epoch 5/5\n",
      "5160/5160 [==============================] - 3s 578us/step - loss: 0.5326 - mean_squared_error: 0.5326\n"
     ]
    },
    {
     "data": {
      "text/plain": [
       "<tensorflow.python.keras.callbacks.History at 0x14d5d5710>"
      ]
     },
     "execution_count": 18,
     "metadata": {},
     "output_type": "execute_result"
    }
   ],
   "source": [
    "model.fit(scaled_train_df.values, y, epochs=5, batch_size=4, callbacks=[tb])"
   ]
  },
  {
   "cell_type": "markdown",
   "metadata": {},
   "source": [
    "## Validate!\n",
    "SO far we have used the entire dataset to train.  We know that this is not acceptable.  In Neural Networks, rather than a cross validation, a validation split is done.  Lets repeat the experiment with splits."
   ]
  },
  {
   "cell_type": "code",
   "execution_count": 19,
   "metadata": {},
   "outputs": [],
   "source": [
    "from time import time\n",
    "from tensorflow.keras.callbacks import TensorBoard\n",
    "#tb = TensorBoard(log_dir=f\"logs\\\\{time()}\")\n",
    "tb = TensorBoard(log_dir=f\"logs\")"
   ]
  },
  {
   "cell_type": "code",
   "execution_count": 20,
   "metadata": {},
   "outputs": [],
   "source": [
    "from sklearn.model_selection import train_test_split\n",
    "x_train, x_test, y_train, y_test = train_test_split(scaled_train_df, y, test_size=0.20, random_state=101)"
   ]
  },
  {
   "cell_type": "code",
   "execution_count": 21,
   "metadata": {},
   "outputs": [],
   "source": [
    "model_final = tf.keras.Sequential()\n",
    "\n",
    "model_final.add(layers.Dense(100, activation='sigmoid'))\n",
    "model_final.add(layers.Dense(100, activation='sigmoid'))\n",
    "model_final.add(layers.Dense(1))"
   ]
  },
  {
   "cell_type": "code",
   "execution_count": 22,
   "metadata": {},
   "outputs": [],
   "source": [
    "model_final.compile(optimizer=tf.optimizers.SGD(0.001),\n",
    "             loss='mean_squared_error',\n",
    "             metrics=['mean_squared_error'])"
   ]
  },
  {
   "cell_type": "code",
   "execution_count": 23,
   "metadata": {},
   "outputs": [
    {
     "name": "stdout",
     "output_type": "stream",
     "text": [
      "Epoch 1/20\n",
      "   1/3303 [..............................] - ETA: 0s - loss: 14.3790 - mean_squared_error: 14.3790WARNING:tensorflow:Callbacks method `on_train_batch_end` is slow compared to the batch time (batch time: 0.0008s vs `on_train_batch_end` time: 0.0222s). Check your callbacks.\n",
      "3303/3303 [==============================] - 2s 711us/step - loss: 1.3695 - mean_squared_error: 1.3695 - val_loss: 1.3512 - val_mean_squared_error: 1.3512\n",
      "Epoch 2/20\n",
      "3303/3303 [==============================] - 2s 690us/step - loss: 1.3296 - mean_squared_error: 1.3296 - val_loss: 1.3446 - val_mean_squared_error: 1.3446\n",
      "Epoch 3/20\n",
      "3303/3303 [==============================] - 2s 641us/step - loss: 1.3232 - mean_squared_error: 1.3232 - val_loss: 1.3384 - val_mean_squared_error: 1.3384\n",
      "Epoch 4/20\n",
      "3303/3303 [==============================] - 2s 681us/step - loss: 1.3177 - mean_squared_error: 1.3177 - val_loss: 1.3383 - val_mean_squared_error: 1.3383\n",
      "Epoch 5/20\n",
      "3303/3303 [==============================] - 2s 640us/step - loss: 1.3103 - mean_squared_error: 1.3103 - val_loss: 1.3267 - val_mean_squared_error: 1.3267\n",
      "Epoch 6/20\n",
      "3303/3303 [==============================] - 2s 648us/step - loss: 1.3015 - mean_squared_error: 1.3015 - val_loss: 1.3161 - val_mean_squared_error: 1.3161\n",
      "Epoch 7/20\n",
      "3303/3303 [==============================] - 2s 658us/step - loss: 1.2934 - mean_squared_error: 1.2934 - val_loss: 1.3065 - val_mean_squared_error: 1.3065\n",
      "Epoch 8/20\n",
      "3303/3303 [==============================] - 2s 656us/step - loss: 1.2810 - mean_squared_error: 1.2810 - val_loss: 1.3038 - val_mean_squared_error: 1.3038\n",
      "Epoch 9/20\n",
      "3303/3303 [==============================] - 2s 654us/step - loss: 1.2657 - mean_squared_error: 1.2657 - val_loss: 1.2764 - val_mean_squared_error: 1.2764\n",
      "Epoch 10/20\n",
      "3303/3303 [==============================] - 2s 654us/step - loss: 1.2471 - mean_squared_error: 1.2471 - val_loss: 1.2534 - val_mean_squared_error: 1.2534\n",
      "Epoch 11/20\n",
      "3303/3303 [==============================] - 2s 731us/step - loss: 1.2189 - mean_squared_error: 1.2189 - val_loss: 1.2395 - val_mean_squared_error: 1.2395\n",
      "Epoch 12/20\n",
      "3303/3303 [==============================] - 2s 689us/step - loss: 1.1864 - mean_squared_error: 1.1864 - val_loss: 1.2056 - val_mean_squared_error: 1.2056\n",
      "Epoch 13/20\n",
      "3303/3303 [==============================] - 2s 690us/step - loss: 1.1399 - mean_squared_error: 1.1399 - val_loss: 1.1347 - val_mean_squared_error: 1.1347\n",
      "Epoch 14/20\n",
      "3303/3303 [==============================] - 2s 677us/step - loss: 1.0836 - mean_squared_error: 1.0836 - val_loss: 1.0803 - val_mean_squared_error: 1.0803\n",
      "Epoch 15/20\n",
      "3303/3303 [==============================] - 2s 676us/step - loss: 1.0075 - mean_squared_error: 1.0075 - val_loss: 1.0178 - val_mean_squared_error: 1.0178\n",
      "Epoch 16/20\n",
      "3303/3303 [==============================] - 2s 714us/step - loss: 0.9200 - mean_squared_error: 0.9200 - val_loss: 0.9082 - val_mean_squared_error: 0.9082\n",
      "Epoch 17/20\n",
      "3303/3303 [==============================] - 2s 698us/step - loss: 0.8247 - mean_squared_error: 0.8247 - val_loss: 0.8064 - val_mean_squared_error: 0.8064\n",
      "Epoch 18/20\n",
      "3303/3303 [==============================] - 2s 684us/step - loss: 0.7346 - mean_squared_error: 0.7346 - val_loss: 0.7436 - val_mean_squared_error: 0.7436\n",
      "Epoch 19/20\n",
      "3303/3303 [==============================] - 2s 690us/step - loss: 0.6649 - mean_squared_error: 0.6649 - val_loss: 0.6777 - val_mean_squared_error: 0.6777\n",
      "Epoch 20/20\n",
      "3303/3303 [==============================] - 2s 685us/step - loss: 0.6205 - mean_squared_error: 0.6205 - val_loss: 0.6464 - val_mean_squared_error: 0.6464\n"
     ]
    },
    {
     "data": {
      "text/plain": [
       "<tensorflow.python.keras.callbacks.History at 0x14f1a8550>"
      ]
     },
     "execution_count": 23,
     "metadata": {},
     "output_type": "execute_result"
    }
   ],
   "source": [
    "model_final.fit(x_train.values, y_train, validation_data=(x_test.values,y_test), epochs=20, batch_size=5, callbacks=[tb])\n"
   ]
  },
  {
   "cell_type": "markdown",
   "metadata": {},
   "source": [
    "## Classification?\n",
    "The only thing we really need to change is the final layer to predict classes."
   ]
  },
  {
   "cell_type": "code",
   "execution_count": 24,
   "metadata": {},
   "outputs": [],
   "source": [
    "model_iris = tf.keras.Sequential()\n",
    "\n",
    "model_iris.add(layers.Dense(100, activation = 'sigmoid'))\n",
    "model_iris.add(layers.Dense(100, activation = 'sigmoid'))\n",
    "model_iris.add(layers.Dense(3, activation = 'sigmoid'))\n",
    "\n",
    "model_iris.compile(optimizer=tf.optimizers.SGD(0.01),\n",
    "             loss=tf.keras.losses.SparseCategoricalCrossentropy(),\n",
    "             metrics=['accuracy'])\n",
    "\n",
    "log_dir = 'iris_logs'\n",
    "tb_iris = TensorBoard(log_dir=log_dir, histogram_freq=1)"
   ]
  },
  {
   "cell_type": "markdown",
   "metadata": {},
   "source": [
    "**In your terminal, you'll need to tell tensorboard where your logs are being stored**\n",
    "\n",
    "Ex. CUS_C02VJ0NQHTDF:~ bblanchard006$ tensorboard --logdir /Users/bblanop/SMU/QTW/iris_logs"
   ]
  },
  {
   "cell_type": "code",
   "execution_count": 25,
   "metadata": {},
   "outputs": [],
   "source": [
    "iris = datasets.load_iris()"
   ]
  },
  {
   "cell_type": "code",
   "execution_count": 26,
   "metadata": {},
   "outputs": [],
   "source": [
    "x = iris['data']\n",
    "y = iris['target']\n",
    "\n",
    "x_train, x_test, y_train, y_test = train_test_split(x, y, test_size=0.20, random_state=102)"
   ]
  },
  {
   "cell_type": "code",
   "execution_count": 27,
   "metadata": {},
   "outputs": [
    {
     "name": "stdout",
     "output_type": "stream",
     "text": [
      "Epoch 1/100\n",
      " 1/30 [>.............................] - ETA: 0s - loss: 1.3155 - accuracy: 0.2500WARNING:tensorflow:Callbacks method `on_train_batch_end` is slow compared to the batch time (batch time: 0.0009s vs `on_train_batch_end` time: 0.0265s). Check your callbacks.\n",
      "30/30 [==============================] - 0s 6ms/step - loss: 1.1319 - accuracy: 0.3250 - val_loss: 1.0977 - val_accuracy: 0.3667\n",
      "Epoch 2/100\n",
      "30/30 [==============================] - 0s 1ms/step - loss: 1.1019 - accuracy: 0.3000 - val_loss: 1.0911 - val_accuracy: 0.3667\n",
      "Epoch 3/100\n",
      "30/30 [==============================] - 0s 2ms/step - loss: 1.0931 - accuracy: 0.3417 - val_loss: 1.0865 - val_accuracy: 0.6667\n",
      "Epoch 4/100\n",
      "30/30 [==============================] - 0s 2ms/step - loss: 1.0948 - accuracy: 0.3583 - val_loss: 1.0880 - val_accuracy: 0.2667\n",
      "Epoch 5/100\n",
      "30/30 [==============================] - 0s 1ms/step - loss: 1.0914 - accuracy: 0.3583 - val_loss: 1.0844 - val_accuracy: 0.2667\n",
      "Epoch 6/100\n",
      "30/30 [==============================] - 0s 2ms/step - loss: 1.0901 - accuracy: 0.3500 - val_loss: 1.0807 - val_accuracy: 0.3667\n",
      "Epoch 7/100\n",
      "30/30 [==============================] - 0s 1ms/step - loss: 1.0896 - accuracy: 0.4167 - val_loss: 1.0839 - val_accuracy: 0.2667\n",
      "Epoch 8/100\n",
      "30/30 [==============================] - 0s 1ms/step - loss: 1.0854 - accuracy: 0.3583 - val_loss: 1.0829 - val_accuracy: 0.2667\n",
      "Epoch 9/100\n",
      "30/30 [==============================] - 0s 1ms/step - loss: 1.0833 - accuracy: 0.3917 - val_loss: 1.0790 - val_accuracy: 0.2667\n",
      "Epoch 10/100\n",
      "30/30 [==============================] - 0s 1ms/step - loss: 1.0786 - accuracy: 0.3333 - val_loss: 1.0763 - val_accuracy: 0.2667\n",
      "Epoch 11/100\n",
      "30/30 [==============================] - 0s 1ms/step - loss: 1.0757 - accuracy: 0.4833 - val_loss: 1.0766 - val_accuracy: 0.2667\n",
      "Epoch 12/100\n",
      "30/30 [==============================] - 0s 1ms/step - loss: 1.0758 - accuracy: 0.3500 - val_loss: 1.0730 - val_accuracy: 0.2667\n",
      "Epoch 13/100\n",
      "30/30 [==============================] - 0s 1ms/step - loss: 1.0744 - accuracy: 0.3167 - val_loss: 1.0691 - val_accuracy: 0.2667\n",
      "Epoch 14/100\n",
      "30/30 [==============================] - 0s 1ms/step - loss: 1.0709 - accuracy: 0.3917 - val_loss: 1.0642 - val_accuracy: 0.2667\n",
      "Epoch 15/100\n",
      "30/30 [==============================] - 0s 2ms/step - loss: 1.0668 - accuracy: 0.3917 - val_loss: 1.0613 - val_accuracy: 0.2667\n",
      "Epoch 16/100\n",
      "30/30 [==============================] - 0s 2ms/step - loss: 1.0613 - accuracy: 0.5083 - val_loss: 1.0585 - val_accuracy: 0.4000\n",
      "Epoch 17/100\n",
      "30/30 [==============================] - 0s 1ms/step - loss: 1.0583 - accuracy: 0.4000 - val_loss: 1.0586 - val_accuracy: 0.2667\n",
      "Epoch 18/100\n",
      "30/30 [==============================] - 0s 1ms/step - loss: 1.0563 - accuracy: 0.4167 - val_loss: 1.0471 - val_accuracy: 0.4000\n",
      "Epoch 19/100\n",
      "30/30 [==============================] - 0s 1ms/step - loss: 1.0512 - accuracy: 0.4083 - val_loss: 1.0440 - val_accuracy: 0.2667\n",
      "Epoch 20/100\n",
      "30/30 [==============================] - 0s 2ms/step - loss: 1.0427 - accuracy: 0.4500 - val_loss: 1.0413 - val_accuracy: 0.2667\n",
      "Epoch 21/100\n",
      "30/30 [==============================] - 0s 1ms/step - loss: 1.0405 - accuracy: 0.3833 - val_loss: 1.0403 - val_accuracy: 0.6333\n",
      "Epoch 22/100\n",
      "30/30 [==============================] - 0s 1ms/step - loss: 1.0394 - accuracy: 0.5750 - val_loss: 1.0300 - val_accuracy: 0.6333\n",
      "Epoch 23/100\n",
      "30/30 [==============================] - 0s 2ms/step - loss: 1.0315 - accuracy: 0.6500 - val_loss: 1.0257 - val_accuracy: 0.2667\n",
      "Epoch 24/100\n",
      "30/30 [==============================] - 0s 1ms/step - loss: 1.0255 - accuracy: 0.4833 - val_loss: 1.0121 - val_accuracy: 0.8000\n",
      "Epoch 25/100\n",
      "30/30 [==============================] - 0s 2ms/step - loss: 1.0202 - accuracy: 0.5833 - val_loss: 1.0033 - val_accuracy: 0.8000\n",
      "Epoch 26/100\n",
      "30/30 [==============================] - 0s 2ms/step - loss: 1.0131 - accuracy: 0.6417 - val_loss: 1.0086 - val_accuracy: 0.5000\n",
      "Epoch 27/100\n",
      "30/30 [==============================] - 0s 2ms/step - loss: 1.0045 - accuracy: 0.4583 - val_loss: 0.9951 - val_accuracy: 0.6333\n",
      "Epoch 28/100\n",
      "30/30 [==============================] - 0s 2ms/step - loss: 1.0043 - accuracy: 0.5833 - val_loss: 0.9912 - val_accuracy: 0.6333\n",
      "Epoch 29/100\n",
      "30/30 [==============================] - 0s 1ms/step - loss: 0.9919 - accuracy: 0.5667 - val_loss: 0.9669 - val_accuracy: 0.7667\n",
      "Epoch 30/100\n",
      "30/30 [==============================] - 0s 1ms/step - loss: 0.9848 - accuracy: 0.6667 - val_loss: 0.9681 - val_accuracy: 0.6333\n",
      "Epoch 31/100\n",
      "30/30 [==============================] - 0s 2ms/step - loss: 0.9744 - accuracy: 0.6667 - val_loss: 0.9531 - val_accuracy: 0.7333\n",
      "Epoch 32/100\n",
      "30/30 [==============================] - 0s 1ms/step - loss: 0.9678 - accuracy: 0.6500 - val_loss: 0.9516 - val_accuracy: 0.9000\n",
      "Epoch 33/100\n",
      "30/30 [==============================] - 0s 1ms/step - loss: 0.9525 - accuracy: 0.6750 - val_loss: 0.9246 - val_accuracy: 0.8000\n",
      "Epoch 34/100\n",
      "30/30 [==============================] - 0s 1ms/step - loss: 0.9502 - accuracy: 0.6917 - val_loss: 0.9143 - val_accuracy: 0.8333\n",
      "Epoch 35/100\n",
      "30/30 [==============================] - 0s 2ms/step - loss: 0.9373 - accuracy: 0.7083 - val_loss: 0.9049 - val_accuracy: 0.9333\n",
      "Epoch 36/100\n",
      "30/30 [==============================] - 0s 1ms/step - loss: 0.9221 - accuracy: 0.7333 - val_loss: 0.8941 - val_accuracy: 0.9000\n",
      "Epoch 37/100\n",
      "30/30 [==============================] - 0s 1ms/step - loss: 0.9091 - accuracy: 0.8083 - val_loss: 0.8812 - val_accuracy: 0.9333\n",
      "Epoch 38/100\n",
      "30/30 [==============================] - 0s 1ms/step - loss: 0.8966 - accuracy: 0.7333 - val_loss: 0.9008 - val_accuracy: 0.6333\n",
      "Epoch 39/100\n",
      "30/30 [==============================] - 0s 1ms/step - loss: 0.8814 - accuracy: 0.7000 - val_loss: 0.8423 - val_accuracy: 0.7333\n",
      "Epoch 40/100\n",
      "30/30 [==============================] - 0s 1ms/step - loss: 0.8789 - accuracy: 0.6583 - val_loss: 0.8403 - val_accuracy: 0.8667\n",
      "Epoch 41/100\n",
      "30/30 [==============================] - 0s 1ms/step - loss: 0.8610 - accuracy: 0.7500 - val_loss: 0.8344 - val_accuracy: 0.7333\n",
      "Epoch 42/100\n",
      "30/30 [==============================] - 0s 1ms/step - loss: 0.8502 - accuracy: 0.7250 - val_loss: 0.8122 - val_accuracy: 0.9667\n",
      "Epoch 43/100\n",
      "30/30 [==============================] - 0s 1ms/step - loss: 0.8311 - accuracy: 0.8000 - val_loss: 0.7950 - val_accuracy: 0.8333\n",
      "Epoch 44/100\n",
      "30/30 [==============================] - 0s 1ms/step - loss: 0.8201 - accuracy: 0.7333 - val_loss: 0.7891 - val_accuracy: 0.9667\n",
      "Epoch 45/100\n",
      "30/30 [==============================] - 0s 1ms/step - loss: 0.8042 - accuracy: 0.7417 - val_loss: 0.7902 - val_accuracy: 0.6667\n",
      "Epoch 46/100\n",
      "30/30 [==============================] - 0s 1ms/step - loss: 0.7958 - accuracy: 0.7417 - val_loss: 0.7590 - val_accuracy: 0.9667\n",
      "Epoch 47/100\n",
      "30/30 [==============================] - 0s 1ms/step - loss: 0.7729 - accuracy: 0.7667 - val_loss: 0.7317 - val_accuracy: 0.7667\n",
      "Epoch 48/100\n",
      "30/30 [==============================] - 0s 1ms/step - loss: 0.7699 - accuracy: 0.7250 - val_loss: 0.7238 - val_accuracy: 0.8667\n",
      "Epoch 49/100\n",
      "30/30 [==============================] - 0s 1ms/step - loss: 0.7470 - accuracy: 0.7000 - val_loss: 0.7081 - val_accuracy: 0.8667\n",
      "Epoch 50/100\n",
      "30/30 [==============================] - 0s 1ms/step - loss: 0.7342 - accuracy: 0.8000 - val_loss: 0.6847 - val_accuracy: 0.7667\n",
      "Epoch 51/100\n",
      "30/30 [==============================] - 0s 1ms/step - loss: 0.7273 - accuracy: 0.7583 - val_loss: 0.6723 - val_accuracy: 0.8000\n",
      "Epoch 52/100\n",
      "30/30 [==============================] - 0s 1ms/step - loss: 0.7092 - accuracy: 0.7750 - val_loss: 0.6623 - val_accuracy: 0.8333\n",
      "Epoch 53/100\n",
      "30/30 [==============================] - 0s 1ms/step - loss: 0.6855 - accuracy: 0.7500 - val_loss: 0.6993 - val_accuracy: 0.6333\n",
      "Epoch 54/100\n",
      "30/30 [==============================] - 0s 1ms/step - loss: 0.6833 - accuracy: 0.7917 - val_loss: 0.6316 - val_accuracy: 0.8000\n",
      "Epoch 55/100\n",
      "30/30 [==============================] - 0s 1ms/step - loss: 0.6744 - accuracy: 0.7500 - val_loss: 0.6288 - val_accuracy: 0.8667\n",
      "Epoch 56/100\n",
      "30/30 [==============================] - 0s 1ms/step - loss: 0.6586 - accuracy: 0.7750 - val_loss: 0.6132 - val_accuracy: 0.8667\n"
     ]
    },
    {
     "name": "stdout",
     "output_type": "stream",
     "text": [
      "Epoch 57/100\n",
      "30/30 [==============================] - 0s 2ms/step - loss: 0.6460 - accuracy: 0.8417 - val_loss: 0.6056 - val_accuracy: 0.8667\n",
      "Epoch 58/100\n",
      "30/30 [==============================] - 0s 1ms/step - loss: 0.6424 - accuracy: 0.7917 - val_loss: 0.6033 - val_accuracy: 0.9667\n",
      "Epoch 59/100\n",
      "30/30 [==============================] - 0s 1ms/step - loss: 0.6233 - accuracy: 0.7583 - val_loss: 0.5783 - val_accuracy: 0.8333\n",
      "Epoch 60/100\n",
      "30/30 [==============================] - 0s 1ms/step - loss: 0.6216 - accuracy: 0.7667 - val_loss: 0.5844 - val_accuracy: 0.8333\n",
      "Epoch 61/100\n",
      "30/30 [==============================] - 0s 1ms/step - loss: 0.6044 - accuracy: 0.8583 - val_loss: 0.5592 - val_accuracy: 0.8333\n",
      "Epoch 62/100\n",
      "30/30 [==============================] - 0s 1ms/step - loss: 0.6037 - accuracy: 0.8000 - val_loss: 0.5488 - val_accuracy: 0.8333\n",
      "Epoch 63/100\n",
      "30/30 [==============================] - 0s 1ms/step - loss: 0.5892 - accuracy: 0.8250 - val_loss: 0.5514 - val_accuracy: 0.9667\n",
      "Epoch 64/100\n",
      "30/30 [==============================] - 0s 1ms/step - loss: 0.5797 - accuracy: 0.8250 - val_loss: 0.5283 - val_accuracy: 0.8000\n",
      "Epoch 65/100\n",
      "30/30 [==============================] - 0s 1ms/step - loss: 0.5668 - accuracy: 0.8167 - val_loss: 0.5407 - val_accuracy: 0.8333\n",
      "Epoch 66/100\n",
      "30/30 [==============================] - 0s 1ms/step - loss: 0.5611 - accuracy: 0.8917 - val_loss: 0.5340 - val_accuracy: 0.8333\n",
      "Epoch 67/100\n",
      "30/30 [==============================] - 0s 1ms/step - loss: 0.5557 - accuracy: 0.8750 - val_loss: 0.5159 - val_accuracy: 1.0000\n",
      "Epoch 68/100\n",
      "30/30 [==============================] - 0s 1ms/step - loss: 0.5507 - accuracy: 0.8500 - val_loss: 0.5126 - val_accuracy: 0.9667\n",
      "Epoch 69/100\n",
      "30/30 [==============================] - 0s 1ms/step - loss: 0.5425 - accuracy: 0.8417 - val_loss: 0.4943 - val_accuracy: 0.8667\n",
      "Epoch 70/100\n",
      "30/30 [==============================] - 0s 1ms/step - loss: 0.5359 - accuracy: 0.8333 - val_loss: 0.4968 - val_accuracy: 0.9667\n",
      "Epoch 71/100\n",
      "30/30 [==============================] - 0s 1ms/step - loss: 0.5304 - accuracy: 0.8917 - val_loss: 0.4792 - val_accuracy: 0.8333\n",
      "Epoch 72/100\n",
      "30/30 [==============================] - 0s 1ms/step - loss: 0.5092 - accuracy: 0.8250 - val_loss: 0.5060 - val_accuracy: 0.7667\n",
      "Epoch 73/100\n",
      "30/30 [==============================] - 0s 1ms/step - loss: 0.5183 - accuracy: 0.8333 - val_loss: 0.4793 - val_accuracy: 0.9667\n",
      "Epoch 74/100\n",
      "30/30 [==============================] - 0s 1ms/step - loss: 0.5101 - accuracy: 0.8833 - val_loss: 0.4654 - val_accuracy: 0.8667\n",
      "Epoch 75/100\n",
      "30/30 [==============================] - 0s 1ms/step - loss: 0.5012 - accuracy: 0.8833 - val_loss: 0.4592 - val_accuracy: 0.8667\n",
      "Epoch 76/100\n",
      "30/30 [==============================] - 0s 1ms/step - loss: 0.4968 - accuracy: 0.8917 - val_loss: 0.4720 - val_accuracy: 0.9667\n",
      "Epoch 77/100\n",
      "30/30 [==============================] - 0s 1ms/step - loss: 0.4849 - accuracy: 0.8417 - val_loss: 0.4455 - val_accuracy: 0.8333\n",
      "Epoch 78/100\n",
      "30/30 [==============================] - 0s 1ms/step - loss: 0.4858 - accuracy: 0.8333 - val_loss: 0.4482 - val_accuracy: 0.9333\n",
      "Epoch 79/100\n",
      "30/30 [==============================] - 0s 1ms/step - loss: 0.4798 - accuracy: 0.8917 - val_loss: 0.4563 - val_accuracy: 0.9667\n",
      "Epoch 80/100\n",
      "30/30 [==============================] - 0s 1ms/step - loss: 0.4767 - accuracy: 0.9000 - val_loss: 0.4484 - val_accuracy: 0.9667\n",
      "Epoch 81/100\n",
      "30/30 [==============================] - 0s 1ms/step - loss: 0.4751 - accuracy: 0.8750 - val_loss: 0.4336 - val_accuracy: 0.9333\n",
      "Epoch 82/100\n",
      "30/30 [==============================] - 0s 1ms/step - loss: 0.4665 - accuracy: 0.9083 - val_loss: 0.4276 - val_accuracy: 0.9333\n",
      "Epoch 83/100\n",
      "30/30 [==============================] - 0s 1ms/step - loss: 0.4591 - accuracy: 0.8833 - val_loss: 0.4435 - val_accuracy: 0.8333\n",
      "Epoch 84/100\n",
      "30/30 [==============================] - 0s 1ms/step - loss: 0.4590 - accuracy: 0.9000 - val_loss: 0.4177 - val_accuracy: 0.8667\n",
      "Epoch 85/100\n",
      "30/30 [==============================] - 0s 1ms/step - loss: 0.4569 - accuracy: 0.9083 - val_loss: 0.4251 - val_accuracy: 0.9667\n",
      "Epoch 86/100\n",
      "30/30 [==============================] - 0s 1ms/step - loss: 0.4494 - accuracy: 0.9083 - val_loss: 0.4258 - val_accuracy: 0.9667\n",
      "Epoch 87/100\n",
      "30/30 [==============================] - 0s 1ms/step - loss: 0.4453 - accuracy: 0.9333 - val_loss: 0.4088 - val_accuracy: 0.9333\n",
      "Epoch 88/100\n",
      "30/30 [==============================] - 0s 1ms/step - loss: 0.4457 - accuracy: 0.8917 - val_loss: 0.4054 - val_accuracy: 1.0000\n",
      "Epoch 89/100\n",
      "30/30 [==============================] - 0s 1ms/step - loss: 0.4379 - accuracy: 0.9333 - val_loss: 0.4091 - val_accuracy: 0.9667\n",
      "Epoch 90/100\n",
      "30/30 [==============================] - 0s 1ms/step - loss: 0.4287 - accuracy: 0.9083 - val_loss: 0.4328 - val_accuracy: 0.7667\n",
      "Epoch 91/100\n",
      "30/30 [==============================] - 0s 1ms/step - loss: 0.4319 - accuracy: 0.9083 - val_loss: 0.3974 - val_accuracy: 0.9667\n",
      "Epoch 92/100\n",
      "30/30 [==============================] - 0s 1ms/step - loss: 0.4298 - accuracy: 0.9167 - val_loss: 0.3904 - val_accuracy: 1.0000\n",
      "Epoch 93/100\n",
      "30/30 [==============================] - 0s 1ms/step - loss: 0.4227 - accuracy: 0.9500 - val_loss: 0.3946 - val_accuracy: 0.9667\n",
      "Epoch 94/100\n",
      "30/30 [==============================] - 0s 1ms/step - loss: 0.4221 - accuracy: 0.8833 - val_loss: 0.3981 - val_accuracy: 0.9667\n",
      "Epoch 95/100\n",
      "30/30 [==============================] - 0s 1ms/step - loss: 0.4129 - accuracy: 0.9167 - val_loss: 0.3761 - val_accuracy: 0.9333\n",
      "Epoch 96/100\n",
      "30/30 [==============================] - 0s 1ms/step - loss: 0.4112 - accuracy: 0.9500 - val_loss: 0.3789 - val_accuracy: 0.9667\n",
      "Epoch 97/100\n",
      "30/30 [==============================] - 0s 1ms/step - loss: 0.4075 - accuracy: 0.9583 - val_loss: 0.3742 - val_accuracy: 1.0000\n",
      "Epoch 98/100\n",
      "30/30 [==============================] - 0s 1ms/step - loss: 0.3997 - accuracy: 0.9333 - val_loss: 0.3635 - val_accuracy: 0.8667\n",
      "Epoch 99/100\n",
      "30/30 [==============================] - 0s 1ms/step - loss: 0.4006 - accuracy: 0.9250 - val_loss: 0.3719 - val_accuracy: 0.9667\n",
      "Epoch 100/100\n",
      "30/30 [==============================] - 0s 1ms/step - loss: 0.3941 - accuracy: 0.9333 - val_loss: 0.3673 - val_accuracy: 0.9667\n"
     ]
    },
    {
     "data": {
      "text/plain": [
       "<tensorflow.python.keras.callbacks.History at 0x150523780>"
      ]
     },
     "execution_count": 27,
     "metadata": {},
     "output_type": "execute_result"
    }
   ],
   "source": [
    "model_iris.fit(x_train, y_train, validation_data=(x_test, y_test), epochs=100, batch_size=4, callbacks=[tb_iris])\n"
   ]
  },
  {
   "cell_type": "code",
   "execution_count": 28,
   "metadata": {},
   "outputs": [],
   "source": [
    "predictions = model_iris.predict(x_test)"
   ]
  },
  {
   "cell_type": "code",
   "execution_count": 29,
   "metadata": {},
   "outputs": [
    {
     "name": "stdout",
     "output_type": "stream",
     "text": [
      "Prediction: [0 2 1 1 2 0 0 0 1 1 2 1 0 1 2 0 0 2 0 2 0 2 1 1 0 1 2 2 2 0]\n",
      "   Actuals: [0 2 1 1 2 0 0 0 1 1 2 1 0 2 2 0 0 2 0 2 0 2 1 1 0 1 2 2 2 0]\n"
     ]
    }
   ],
   "source": [
    "print(\"Prediction: {}\".format(tf.argmax(predictions, axis=1)))\n",
    "print(\"   Actuals: {}\".format(y_test))"
   ]
  },
  {
   "cell_type": "code",
   "execution_count": 30,
   "metadata": {},
   "outputs": [
    {
     "data": {
      "text/plain": [
       "array([[0.15268323, 0.01605314, 0.00056964],\n",
       "       [0.00065544, 0.03740159, 0.05825314],\n",
       "       [0.00294375, 0.02920729, 0.016716  ],\n",
       "       [0.00412109, 0.02833849, 0.01279739],\n",
       "       [0.00040054, 0.03892139, 0.08463848],\n",
       "       [0.15843806, 0.01572806, 0.0005441 ],\n",
       "       [0.1684776 , 0.01544896, 0.00051197],\n",
       "       [0.2171303 , 0.01450896, 0.00039187],\n",
       "       [0.01075253, 0.02467954, 0.00575793],\n",
       "       [0.00200462, 0.03105855, 0.0230554 ],\n",
       "       [0.00085267, 0.03621599, 0.04701644],\n",
       "       [0.00165588, 0.03194469, 0.02697784],\n",
       "       [0.15081757, 0.01586628, 0.00057203],\n",
       "       [0.00138146, 0.03330326, 0.03167364],\n",
       "       [0.00032416, 0.04090399, 0.10019124],\n",
       "       [0.18650287, 0.01480755, 0.00045583],\n",
       "       [0.19745398, 0.01513475, 0.00043845],\n",
       "       [0.00050586, 0.03840998, 0.07087377],\n",
       "       [0.22044292, 0.01463145, 0.00038821],\n",
       "       [0.00083938, 0.03637087, 0.04792088],\n",
       "       [0.19807473, 0.01479855, 0.00043145],\n",
       "       [0.00089586, 0.0353978 , 0.04492012],\n",
       "       [0.00716779, 0.02652758, 0.00816244],\n",
       "       [0.0015454 , 0.03260326, 0.02887961],\n",
       "       [0.21636662, 0.01453969, 0.00039384],\n",
       "       [0.00180581, 0.03243831, 0.02541772],\n",
       "       [0.00044155, 0.03929481, 0.07886845],\n",
       "       [0.00083938, 0.03637087, 0.04792088],\n",
       "       [0.00078905, 0.03612146, 0.04999769],\n",
       "       [0.25511307, 0.01399261, 0.00032896]], dtype=float32)"
      ]
     },
     "execution_count": 30,
     "metadata": {},
     "output_type": "execute_result"
    }
   ],
   "source": [
    "predictions"
   ]
  },
  {
   "cell_type": "code",
   "execution_count": 31,
   "metadata": {},
   "outputs": [],
   "source": [
    "test_accuracy = tf.keras.metrics.Accuracy()\n"
   ]
  },
  {
   "cell_type": "code",
   "execution_count": 32,
   "metadata": {},
   "outputs": [
    {
     "name": "stdout",
     "output_type": "stream",
     "text": [
      "Test set accuracy: 96.667%\n"
     ]
    }
   ],
   "source": [
    "test_accuracy(tf.argmax(predictions, axis=1), y_test)\n",
    "print(\"Test set accuracy: {:.3%}\".format(test_accuracy.result()))"
   ]
  },
  {
   "cell_type": "code",
   "execution_count": 33,
   "metadata": {},
   "outputs": [
    {
     "data": {
      "text/html": [
       "\n",
       "      <iframe id=\"tensorboard-frame-a53fb73610de68a6\" width=\"100%\" height=\"800\" frameborder=\"0\">\n",
       "      </iframe>\n",
       "      <script>\n",
       "        (function() {\n",
       "          const frame = document.getElementById(\"tensorboard-frame-a53fb73610de68a6\");\n",
       "          const url = new URL(\"/\", window.location);\n",
       "          const port = 6007;\n",
       "          if (port) {\n",
       "            url.port = port;\n",
       "          }\n",
       "          frame.src = url;\n",
       "        })();\n",
       "      </script>\n",
       "    "
      ],
      "text/plain": [
       "<IPython.core.display.HTML object>"
      ]
     },
     "metadata": {},
     "output_type": "display_data"
    }
   ],
   "source": [
    "%load_ext tensorboard\n",
    "%tensorboard --logdir iris_logs"
   ]
  },
  {
   "cell_type": "markdown",
   "metadata": {},
   "source": [
    "## Case Study 12"
   ]
  },
  {
   "cell_type": "code",
   "execution_count": 34,
   "metadata": {},
   "outputs": [],
   "source": [
    "df = pd.read_csv('HIGGS.csv', header=None)"
   ]
  },
  {
   "cell_type": "code",
   "execution_count": 35,
   "metadata": {},
   "outputs": [
    {
     "name": "stdout",
     "output_type": "stream",
     "text": [
      "    Shape of raw data is 11,000,000 x 29\n",
      "\n"
     ]
    }
   ],
   "source": [
    "# Verify size is as expected\n",
    "print(\"{:>25}{:>10,} x {:,}\\n\".format(\"Shape of raw data is \", df.shape[0], df.shape[1]))"
   ]
  },
  {
   "cell_type": "code",
   "execution_count": 36,
   "metadata": {},
   "outputs": [
    {
     "data": {
      "text/html": [
       "<div>\n",
       "<style scoped>\n",
       "    .dataframe tbody tr th:only-of-type {\n",
       "        vertical-align: middle;\n",
       "    }\n",
       "\n",
       "    .dataframe tbody tr th {\n",
       "        vertical-align: top;\n",
       "    }\n",
       "\n",
       "    .dataframe thead th {\n",
       "        text-align: right;\n",
       "    }\n",
       "</style>\n",
       "<table border=\"1\" class=\"dataframe\">\n",
       "  <thead>\n",
       "    <tr style=\"text-align: right;\">\n",
       "      <th></th>\n",
       "      <th>0</th>\n",
       "      <th>1</th>\n",
       "      <th>2</th>\n",
       "      <th>3</th>\n",
       "      <th>4</th>\n",
       "      <th>5</th>\n",
       "      <th>6</th>\n",
       "      <th>7</th>\n",
       "      <th>8</th>\n",
       "      <th>9</th>\n",
       "      <th>...</th>\n",
       "      <th>19</th>\n",
       "      <th>20</th>\n",
       "      <th>21</th>\n",
       "      <th>22</th>\n",
       "      <th>23</th>\n",
       "      <th>24</th>\n",
       "      <th>25</th>\n",
       "      <th>26</th>\n",
       "      <th>27</th>\n",
       "      <th>28</th>\n",
       "    </tr>\n",
       "  </thead>\n",
       "  <tbody>\n",
       "    <tr>\n",
       "      <th>0</th>\n",
       "      <td>1.0</td>\n",
       "      <td>0.869293</td>\n",
       "      <td>-0.635082</td>\n",
       "      <td>0.225690</td>\n",
       "      <td>0.327470</td>\n",
       "      <td>-0.689993</td>\n",
       "      <td>0.754202</td>\n",
       "      <td>-0.248573</td>\n",
       "      <td>-1.092064</td>\n",
       "      <td>0.000000</td>\n",
       "      <td>...</td>\n",
       "      <td>-0.010455</td>\n",
       "      <td>-0.045767</td>\n",
       "      <td>3.101961</td>\n",
       "      <td>1.353760</td>\n",
       "      <td>0.979563</td>\n",
       "      <td>0.978076</td>\n",
       "      <td>0.920005</td>\n",
       "      <td>0.721657</td>\n",
       "      <td>0.988751</td>\n",
       "      <td>0.876678</td>\n",
       "    </tr>\n",
       "    <tr>\n",
       "      <th>1</th>\n",
       "      <td>1.0</td>\n",
       "      <td>0.907542</td>\n",
       "      <td>0.329147</td>\n",
       "      <td>0.359412</td>\n",
       "      <td>1.497970</td>\n",
       "      <td>-0.313010</td>\n",
       "      <td>1.095531</td>\n",
       "      <td>-0.557525</td>\n",
       "      <td>-1.588230</td>\n",
       "      <td>2.173076</td>\n",
       "      <td>...</td>\n",
       "      <td>-1.138930</td>\n",
       "      <td>-0.000819</td>\n",
       "      <td>0.000000</td>\n",
       "      <td>0.302220</td>\n",
       "      <td>0.833048</td>\n",
       "      <td>0.985700</td>\n",
       "      <td>0.978098</td>\n",
       "      <td>0.779732</td>\n",
       "      <td>0.992356</td>\n",
       "      <td>0.798343</td>\n",
       "    </tr>\n",
       "    <tr>\n",
       "      <th>2</th>\n",
       "      <td>1.0</td>\n",
       "      <td>0.798835</td>\n",
       "      <td>1.470639</td>\n",
       "      <td>-1.635975</td>\n",
       "      <td>0.453773</td>\n",
       "      <td>0.425629</td>\n",
       "      <td>1.104875</td>\n",
       "      <td>1.282322</td>\n",
       "      <td>1.381664</td>\n",
       "      <td>0.000000</td>\n",
       "      <td>...</td>\n",
       "      <td>1.128848</td>\n",
       "      <td>0.900461</td>\n",
       "      <td>0.000000</td>\n",
       "      <td>0.909753</td>\n",
       "      <td>1.108330</td>\n",
       "      <td>0.985692</td>\n",
       "      <td>0.951331</td>\n",
       "      <td>0.803252</td>\n",
       "      <td>0.865924</td>\n",
       "      <td>0.780118</td>\n",
       "    </tr>\n",
       "    <tr>\n",
       "      <th>3</th>\n",
       "      <td>0.0</td>\n",
       "      <td>1.344385</td>\n",
       "      <td>-0.876626</td>\n",
       "      <td>0.935913</td>\n",
       "      <td>1.992050</td>\n",
       "      <td>0.882454</td>\n",
       "      <td>1.786066</td>\n",
       "      <td>-1.646778</td>\n",
       "      <td>-0.942383</td>\n",
       "      <td>0.000000</td>\n",
       "      <td>...</td>\n",
       "      <td>-0.678379</td>\n",
       "      <td>-1.360356</td>\n",
       "      <td>0.000000</td>\n",
       "      <td>0.946652</td>\n",
       "      <td>1.028704</td>\n",
       "      <td>0.998656</td>\n",
       "      <td>0.728281</td>\n",
       "      <td>0.869200</td>\n",
       "      <td>1.026736</td>\n",
       "      <td>0.957904</td>\n",
       "    </tr>\n",
       "    <tr>\n",
       "      <th>4</th>\n",
       "      <td>1.0</td>\n",
       "      <td>1.105009</td>\n",
       "      <td>0.321356</td>\n",
       "      <td>1.522401</td>\n",
       "      <td>0.882808</td>\n",
       "      <td>-1.205349</td>\n",
       "      <td>0.681466</td>\n",
       "      <td>-1.070464</td>\n",
       "      <td>-0.921871</td>\n",
       "      <td>0.000000</td>\n",
       "      <td>...</td>\n",
       "      <td>-0.373566</td>\n",
       "      <td>0.113041</td>\n",
       "      <td>0.000000</td>\n",
       "      <td>0.755856</td>\n",
       "      <td>1.361057</td>\n",
       "      <td>0.986610</td>\n",
       "      <td>0.838085</td>\n",
       "      <td>1.133295</td>\n",
       "      <td>0.872245</td>\n",
       "      <td>0.808487</td>\n",
       "    </tr>\n",
       "  </tbody>\n",
       "</table>\n",
       "<p>5 rows × 29 columns</p>\n",
       "</div>"
      ],
      "text/plain": [
       "    0         1         2         3         4         5         6         7   \\\n",
       "0  1.0  0.869293 -0.635082  0.225690  0.327470 -0.689993  0.754202 -0.248573   \n",
       "1  1.0  0.907542  0.329147  0.359412  1.497970 -0.313010  1.095531 -0.557525   \n",
       "2  1.0  0.798835  1.470639 -1.635975  0.453773  0.425629  1.104875  1.282322   \n",
       "3  0.0  1.344385 -0.876626  0.935913  1.992050  0.882454  1.786066 -1.646778   \n",
       "4  1.0  1.105009  0.321356  1.522401  0.882808 -1.205349  0.681466 -1.070464   \n",
       "\n",
       "         8         9   ...        19        20        21        22        23  \\\n",
       "0 -1.092064  0.000000  ... -0.010455 -0.045767  3.101961  1.353760  0.979563   \n",
       "1 -1.588230  2.173076  ... -1.138930 -0.000819  0.000000  0.302220  0.833048   \n",
       "2  1.381664  0.000000  ...  1.128848  0.900461  0.000000  0.909753  1.108330   \n",
       "3 -0.942383  0.000000  ... -0.678379 -1.360356  0.000000  0.946652  1.028704   \n",
       "4 -0.921871  0.000000  ... -0.373566  0.113041  0.000000  0.755856  1.361057   \n",
       "\n",
       "         24        25        26        27        28  \n",
       "0  0.978076  0.920005  0.721657  0.988751  0.876678  \n",
       "1  0.985700  0.978098  0.779732  0.992356  0.798343  \n",
       "2  0.985692  0.951331  0.803252  0.865924  0.780118  \n",
       "3  0.998656  0.728281  0.869200  1.026736  0.957904  \n",
       "4  0.986610  0.838085  1.133295  0.872245  0.808487  \n",
       "\n",
       "[5 rows x 29 columns]"
      ]
     },
     "execution_count": 36,
     "metadata": {},
     "output_type": "execute_result"
    }
   ],
   "source": [
    "df.head()"
   ]
  },
  {
   "cell_type": "code",
   "execution_count": 37,
   "metadata": {},
   "outputs": [
    {
     "data": {
      "text/plain": [
       "count    1.100000e+07\n",
       "mean     5.299203e-01\n",
       "std      4.991040e-01\n",
       "min      0.000000e+00\n",
       "25%      0.000000e+00\n",
       "50%      1.000000e+00\n",
       "75%      1.000000e+00\n",
       "max      1.000000e+00\n",
       "Name: 0, dtype: float64"
      ]
     },
     "execution_count": 37,
     "metadata": {},
     "output_type": "execute_result"
    }
   ],
   "source": [
    "df[0].describe()"
   ]
  },
  {
   "cell_type": "code",
   "execution_count": null,
   "metadata": {},
   "outputs": [],
   "source": []
  }
 ],
 "metadata": {
  "kernelspec": {
   "display_name": "Python 3",
   "language": "python",
   "name": "python3"
  },
  "language_info": {
   "codemirror_mode": {
    "name": "ipython",
    "version": 3
   },
   "file_extension": ".py",
   "mimetype": "text/x-python",
   "name": "python",
   "nbconvert_exporter": "python",
   "pygments_lexer": "ipython3",
   "version": "3.6.2"
  }
 },
 "nbformat": 4,
 "nbformat_minor": 2
}
